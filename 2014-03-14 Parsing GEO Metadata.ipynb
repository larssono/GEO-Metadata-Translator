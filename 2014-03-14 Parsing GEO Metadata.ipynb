{
 "metadata": {
  "name": ""
 },
 "nbformat": 3,
 "nbformat_minor": 0,
 "worksheets": [
  {
   "cells": [
    {
     "cell_type": "code",
     "collapsed": false,
     "input": [
      "import numpy as np\n",
      "import pandas as pd\n",
      "import pylab\n",
      "import os\n",
      "\n",
      "METADATA_FILE_NAME = os.path.normpath(\"C:/Users/Shane.WIN-6T7VSM1/Desktop/TEST_File_for_testing_parsing.soft\")\n"
     ],
     "language": "python",
     "metadata": {},
     "outputs": [],
     "prompt_number": 147
    },
    {
     "cell_type": "code",
     "collapsed": false,
     "input": [
      "#Testing support functions\n",
      "\n",
      "def create_test_structures(lines):\n",
      "    if lines>=1: #DATABASE entity\n",
      "        sim_file =            \"^DATABASE = GeoMiame\"\n",
      "        expected_structure = {'DATABASE':{'GeoMiame':{'NAME':'GeoMiame'}}}\n",
      "    if lines>=2: #Variable within DATABASE\n",
      "        sim_file += chr(13) + \"!Database_name = Gene Expression Omnibus (GEO)\"\n",
      "        expected_structure['DATABASE']['GeoMiame']['Database_name']='Gene Expression Omnibus (GEO)'\n",
      "    if lines>=3: #SERIES entity\n",
      "        sim_file += chr(13) + \"^SERIES = GSE6561\"\n",
      "        expected_structure['SERIES']={'GSE6561':{'NAME':'GSE6561'}}\n",
      "    if lines>=4: #SERIES variable\n",
      "        sim_file += chr(13) + \"!Series_status = Public on Feb 10 2007\"\n",
      "        expected_structure['SERIES']['GSE6561']['Series_status']=\"Public on Feb 10 2007\"\n",
      "    if lines>=5: #SERIES variable (another)\n",
      "        sim_file += chr(13) + \"!Series_submission_date = Dec 18 2006 \"\n",
      "        expected_structure['SERIES']['GSE6561']['Series_submission_date']=\"Dec 18 2006\"\n",
      "    if lines>=6: #SERIES repeated variable (1st time)\n",
      "        sim_file += chr(13) + \"!Series_contributor = Peter,,Andrews\"\n",
      "        expected_structure['SERIES']['GSE6561']['Series_contributor']=\"Peter,,Andrews\"\n",
      "    if lines>=7: #SERIES repated variable (2nd time)\n",
      "        sim_file += chr(13) + \"!Series_contributor = Duncan,,Baker\"\n",
      "        expected_structure['SERIES']['GSE6561']['Series_contributor']=[\"Peter,,Andrews\",\n",
      "                                                                       \"Duncan,,Baker\"]\n",
      "    if lines>=8: #SERIES repated variable (3rd time)\n",
      "        sim_file += chr(13) + \"!Series_contributor = Neil,,Harrison\"\n",
      "        expected_structure['SERIES']['GSE6561']['Series_contributor']=[\"Peter,,Andrews\",\n",
      "                                                                       \"Duncan,,Baker\",\n",
      "                                                                       \"Neil,,Harrison\"]\n",
      "    if lines>=9: #PLATFORM\n",
      "        sim_file += chr(13) + \"^PLATFORM = GPL570\"\n",
      "        expected_structure['PLATFORM']={'GPL570':{'NAME':'GPL570'}}\n",
      "    if lines>=10: #Beginning of table definition: First column definition\n",
      "        sim_file += chr(13) + \"#ID = Affymetrix Probe Set\"\n",
      "        expected_structure['PLATFORM']['GPL570']['Table_Columns']=[(\"ID\",\"Affymetrix Probe Set\")]\n",
      "    if lines>=11: #2nd column name of table\n",
      "        sim_file += chr(13) + \"#GB_ACC = GenBank Accession Number\"\n",
      "        expected_structure['PLATFORM']['GPL570']['Table_Columns']=[(\"ID\",\"Affymetrix Probe Set\"),\n",
      "                                                                   (\"GB_ACC\",\"GenBank Accession Number\")]\n",
      "    if lines>=12: #Start of platform table\n",
      "        sim_file += chr(13) + \"!platform_table_begin\"\n",
      "        expected_structure['PLATFORM']['GPL570']['Table']=[\"<Table import not implemented>\"]\n",
      "    if lines>=13: #Start of platform table: column names\n",
      "        sim_file += chr(13) + \"ID\" + chr(9) + \"GB_ACC\"\n",
      "        #no change to structure\n",
      "    if lines>=14: #Start of platform table: values in a able\n",
      "        sim_file += chr(13) + \"xx\" + chr(9) + \"aaa\"\n",
      "        #no change to structure\n",
      "    if lines>=15: #End of table\n",
      "        sim_file += chr(13) + \"!platform_table_end\"\n",
      "        #no change to structure\n",
      "    if lines>=16: #SAMPLE\n",
      "        sim_file += chr(13) + \"^SAMPLE = GSM151738\"\n",
      "        expected_structure['SAMPLE']={'GSM151738':{'NAME':'GSM151738'}}\n",
      "    if lines>=17: #Sample table start\n",
      "        sim_file += chr(13) + \"!sample_table_begin\"\n",
      "        expected_structure['SAMPLE']['GSM151738']['Table']=[\"<Table import not implemented>\"]\n",
      "    if lines>=18: #Sample table: Column lables\n",
      "        sim_file += chr(13) + \"ID_REF\" + chr(9) + \"VALUE\" + chr(9) + \"ABS_CALL\" + chr(9) + \"DETECTION P-VALUE\"\n",
      "        #no change to structure\n",
      "    if lines>=19: #Sample table: line of data\n",
      "        sim_file += chr(13) + \"AFFX-BioB-5_at\" + chr(9) + \"1276.2\" + chr(9) + \"P\" + chr(9) + \"0.000297\"\n",
      "        #no change to structure\n",
      "    if lines>=20: #Sample table: end of table\n",
      "        sim_file += chr(13) + \"!sample_table_end\"\n",
      "        #no change to structure\n",
      "    if lines>=21: #SAMPLE #2\n",
      "        sim_file += chr(13) + \"^SAMPLE = GSM151739\"\n",
      "        expected_structure['SAMPLE']={'GSM151739':{'NAME':'GSM151739'}}\n",
      "    if lines>=22: #Blank line\n",
      "        sim_file += chr(13)+chr(13) \n",
      "        #No change to structure\n",
      "       \n",
      "    return sim_file, expected_structure\n"
     ],
     "language": "python",
     "metadata": {},
     "outputs": [],
     "prompt_number": 148
    },
    {
     "cell_type": "code",
     "collapsed": false,
     "input": [
      "def identify_prefix(line,char):\n",
      "    before,middle,after=line.partition(char)\n",
      "    if middle==char:\n",
      "        before,middle,after = after.partition(\"=\")\n",
      "        before=before.strip()\n",
      "        after=after.strip()\n",
      "        return True,before,after\n",
      "    else:\n",
      "        return False,\"\",\"\"\n",
      "\n",
      "def parse_line(line,is_in_table):\n",
      "    if is_in_table:\n",
      "        b,s,a = line.partition(\"!\") #Looking for !xxxx_table_end\n",
      "        b,s,a = a.partition(\"_\")\n",
      "        if a==\"table_end\": \n",
      "            return 5,line,\"\"\n",
      "        else: return 4,line,\"\"\n",
      "    found,before,after=identify_prefix(line,\"^\")\n",
      "    if found: return 1,before,after\n",
      "    found,before,after=identify_prefix(line,\"!\")\n",
      "    if found: \n",
      "        b,s,a = before.partition(\"_\")\n",
      "        if a==\"table_begin\":\n",
      "            return 4,before,after\n",
      "        else:\n",
      "            return 2,before,after\n",
      "    found,before,after=identify_prefix(line,\"#\")\n",
      "    if found: return 3,before,after\n",
      "    else: print \"Unable to parse: '\" + line + \"'\"\n",
      "\n",
      "def parse_stream(stream):\n",
      "    #temp_objects=[{},{},{}]\n",
      "    top_obj={}\n",
      "    level=0\n",
      "    var_name=\"\"\n",
      "    is_in_table=False\n",
      "    stream_by_line=stream.splitlines()\n",
      "    objects={}\n",
      "    for line in stream_by_line:\n",
      "        if line != \"\":\n",
      "            prev_level, prev_var_name = (level, var_name)\n",
      "            level,var_name,var_value=parse_line(line,is_in_table)\n",
      "            if level==1: #^\n",
      "                cur_obj={\"NAME\":var_value}\n",
      "                par_obj={var_value:cur_obj}\n",
      "                top_obj[var_name]=par_obj\n",
      "            if level==2: #!\n",
      "                if (prev_level, prev_var_name)==(level,var_name):\n",
      "                    cur_lst.append(var_value)\n",
      "                    cur_obj[var_name]=cur_lst\n",
      "                else:\n",
      "                    cur_obj[var_name]=var_value\n",
      "                    cur_lst=[var_value]\n",
      "            if level==3: ##\n",
      "                if prev_level != level:\n",
      "                    cur_lst=[]\n",
      "                cur_lst.append((var_name,var_value))\n",
      "                cur_obj[\"Table_Columns\"]=cur_lst\n",
      "            if level==4: #Table\n",
      "                cur_obj[\"Table\"]=[\"<Table import not implemented>\"]\n",
      "                is_in_table=True\n",
      "            if level==5: #End of table\n",
      "                is_in_table=False\n",
      "    \n",
      "    return top_obj"
     ],
     "language": "python",
     "metadata": {},
     "outputs": [],
     "prompt_number": 149
    },
    {
     "cell_type": "code",
     "collapsed": false,
     "input": [
      "#TEST DATABASE line\n",
      "#Example: ^DATABASE = GeoMiame \n",
      "sim_file, exp_result = create_test_structures(1)\n",
      "\n",
      "result = parse_stream(sim_file)\n",
      "print result==exp_result\n",
      "print result\n",
      "print exp_result"
     ],
     "language": "python",
     "metadata": {},
     "outputs": [
      {
       "output_type": "stream",
       "stream": "stdout",
       "text": [
        "True\n",
        "{'DATABASE': {'GeoMiame': {'NAME': 'GeoMiame'}}}\n",
        "{'DATABASE': {'GeoMiame': {'NAME': 'GeoMiame'}}}\n"
       ]
      }
     ],
     "prompt_number": 150
    },
    {
     "cell_type": "code",
     "collapsed": false,
     "input": [
      "#TEST variable \n",
      "#Example: !Database_name = Gene Expression Omnibus (GEO) \n",
      "sim_file, exp_result = create_test_structures(2)\n",
      "\n",
      "result = parse_stream(sim_file)\n",
      "print result==exp_result"
     ],
     "language": "python",
     "metadata": {},
     "outputs": [
      {
       "output_type": "stream",
       "stream": "stdout",
       "text": [
        "True\n"
       ]
      }
     ],
     "prompt_number": 151
    },
    {
     "cell_type": "code",
     "collapsed": false,
     "input": [
      "#TEST SERIES line \n",
      "#Example: ^SERIES = GSE6561\n",
      "sim_file, exp_result = create_test_structures(3)\n",
      "\n",
      "result = parse_stream(sim_file)\n",
      "print result==exp_result"
     ],
     "language": "python",
     "metadata": {},
     "outputs": [
      {
       "output_type": "stream",
       "stream": "stdout",
       "text": [
        "True\n"
       ]
      }
     ],
     "prompt_number": 152
    },
    {
     "cell_type": "code",
     "collapsed": false,
     "input": [
      "#TEST SERIES variable\n",
      "#Example: !Series_status = Public on Feb 10 2007 \n",
      "sim_file, exp_result = create_test_structures(4)\n",
      "\n",
      "result = parse_stream(sim_file)\n",
      "print result==exp_result"
     ],
     "language": "python",
     "metadata": {},
     "outputs": [
      {
       "output_type": "stream",
       "stream": "stdout",
       "text": [
        "True\n"
       ]
      }
     ],
     "prompt_number": 153
    },
    {
     "cell_type": "code",
     "collapsed": false,
     "input": [
      "#TEST SERIES variable (2nd one)\n",
      "#Example: !Series_submission_date = Dec 18 2006 \n",
      "sim_file, exp_result = create_test_structures(5)\n",
      "\n",
      "result = parse_stream(sim_file)\n",
      "print result==exp_result"
     ],
     "language": "python",
     "metadata": {},
     "outputs": [
      {
       "output_type": "stream",
       "stream": "stdout",
       "text": [
        "True\n"
       ]
      }
     ],
     "prompt_number": 154
    },
    {
     "cell_type": "code",
     "collapsed": false,
     "input": [
      "#TEST SERIES repeated variable (first two)\n",
      "#Example: !Series_contributor = Peter,,Andrews\n",
      "#         !Series_contributor = Duncan,,Baker \n",
      "sim_file, exp_result = create_test_structures(7)\n",
      "\n",
      "result = parse_stream(sim_file)\n",
      "print result==exp_result"
     ],
     "language": "python",
     "metadata": {},
     "outputs": [
      {
       "output_type": "stream",
       "stream": "stdout",
       "text": [
        "True\n"
       ]
      }
     ],
     "prompt_number": 155
    },
    {
     "cell_type": "code",
     "collapsed": false,
     "input": [
      "#TEST SERIES repeated variable (three)\n",
      "#Example: !Series_contributor = Peter,,Andrews\n",
      "#         !Series_contributor = Duncan,,Baker \n",
      "#         !Series_contributor = Neil,,Harrison \n",
      "sim_file, exp_result = create_test_structures(8)\n",
      "\n",
      "result = parse_stream(sim_file)\n",
      "print result==exp_result"
     ],
     "language": "python",
     "metadata": {},
     "outputs": [
      {
       "output_type": "stream",
       "stream": "stdout",
       "text": [
        "True\n"
       ]
      }
     ],
     "prompt_number": 156
    },
    {
     "cell_type": "code",
     "collapsed": false,
     "input": [
      "#TEST PLATFORM\n",
      "#Example: ^PLATFORM = GPL570 \n",
      "\n",
      "sim_file, exp_result = create_test_structures(9)\n",
      "\n",
      "result = parse_stream(sim_file)\n",
      "print result==exp_result"
     ],
     "language": "python",
     "metadata": {},
     "outputs": [
      {
       "output_type": "stream",
       "stream": "stdout",
       "text": [
        "True\n"
       ]
      }
     ],
     "prompt_number": 157
    },
    {
     "cell_type": "code",
     "collapsed": false,
     "input": [
      "#TEST First column definition of Platform table\n",
      "#Example: #ID = Affymetrix Probe Set\n",
      "\n",
      "sim_file, exp_result = create_test_structures(10)\n",
      "\n",
      "result = parse_stream(sim_file)\n",
      "print result==exp_result"
     ],
     "language": "python",
     "metadata": {},
     "outputs": [
      {
       "output_type": "stream",
       "stream": "stdout",
       "text": [
        "True\n"
       ]
      }
     ],
     "prompt_number": 158
    },
    {
     "cell_type": "code",
     "collapsed": false,
     "input": [
      "#TEST First column definition of Platform table\n",
      "#Example: #GB_ACC = GenBank Accession Number \n",
      "\n",
      "sim_file, exp_result = create_test_structures(11)\n",
      "\n",
      "result = parse_stream(sim_file)\n",
      "print result==exp_result"
     ],
     "language": "python",
     "metadata": {},
     "outputs": [
      {
       "output_type": "stream",
       "stream": "stdout",
       "text": [
        "True\n"
       ]
      }
     ],
     "prompt_number": 159
    },
    {
     "cell_type": "code",
     "collapsed": false,
     "input": [
      "#TEST Start table\n",
      "#Example: !platform_table_begin \n",
      "\n",
      "sim_file, exp_result = create_test_structures(12)\n",
      "\n",
      "result = parse_stream(sim_file)\n",
      "print result==exp_result"
     ],
     "language": "python",
     "metadata": {},
     "outputs": [
      {
       "output_type": "stream",
       "stream": "stdout",
       "text": [
        "True\n"
       ]
      }
     ],
     "prompt_number": 160
    },
    {
     "cell_type": "code",
     "collapsed": false,
     "input": [
      "#TEST Table: column labels\n",
      "#Example: ID\tGB_ACC\n",
      "\n",
      "sim_file, exp_result = create_test_structures(13)\n",
      "\n",
      "result = parse_stream(sim_file)\n",
      "print result==exp_result"
     ],
     "language": "python",
     "metadata": {},
     "outputs": [
      {
       "output_type": "stream",
       "stream": "stdout",
       "text": [
        "True\n"
       ]
      }
     ],
     "prompt_number": 161
    },
    {
     "cell_type": "code",
     "collapsed": false,
     "input": [
      "#TEST Table: line of data\n",
      "#Example: 1007_s_at\tU48705\n",
      "\n",
      "sim_file, exp_result = create_test_structures(14)\n",
      "\n",
      "result = parse_stream(sim_file)\n",
      "print result==exp_result"
     ],
     "language": "python",
     "metadata": {},
     "outputs": [
      {
       "output_type": "stream",
       "stream": "stdout",
       "text": [
        "True\n"
       ]
      }
     ],
     "prompt_number": 162
    },
    {
     "cell_type": "code",
     "collapsed": false,
     "input": [
      "#TEST Table: end of table\n",
      "#Example: !platform_table_end \n",
      "\n",
      "sim_file, exp_result = create_test_structures(15)\n",
      "\n",
      "result = parse_stream(sim_file)\n",
      "print result==exp_result"
     ],
     "language": "python",
     "metadata": {},
     "outputs": [
      {
       "output_type": "stream",
       "stream": "stdout",
       "text": [
        "True\n"
       ]
      }
     ],
     "prompt_number": 163
    },
    {
     "cell_type": "code",
     "collapsed": false,
     "input": [
      "#TEST Table: SAMPLE\n",
      "#Example: ^SAMPLE = GSM151738\n",
      "\n",
      "sim_file, exp_result = create_test_structures(16)\n",
      "\n",
      "result = parse_stream(sim_file)\n",
      "print result==exp_result"
     ],
     "language": "python",
     "metadata": {},
     "outputs": [
      {
       "output_type": "stream",
       "stream": "stdout",
       "text": [
        "True\n"
       ]
      }
     ],
     "prompt_number": 164
    },
    {
     "cell_type": "code",
     "collapsed": false,
     "input": [
      "#TEST Sample Table: start of table\n",
      "#Example: !sample_table_begin \n",
      "\n",
      "sim_file, exp_result = create_test_structures(17)\n",
      "\n",
      "result = parse_stream(sim_file)\n",
      "print result==exp_result"
     ],
     "language": "python",
     "metadata": {},
     "outputs": [
      {
       "output_type": "stream",
       "stream": "stdout",
       "text": [
        "True\n"
       ]
      }
     ],
     "prompt_number": 165
    },
    {
     "cell_type": "code",
     "collapsed": false,
     "input": [
      "#TEST Sample Table: whole table, start next sample\n",
      "#Example: ID_REF\t        VALUE\tABS_CALL\tDETECTION P-VALUE\n",
      "#         AFFX-BioB-5_at\t21276.2\tP       \t0.000297 \n",
      "#         !sample_table_end \n",
      "#         ^SAMPLE = GSM151739\n",
      "\n",
      "sim_file, exp_result = create_test_structures(21)\n",
      "\n",
      "result = parse_stream(sim_file)\n",
      "print result==exp_result"
     ],
     "language": "python",
     "metadata": {},
     "outputs": [
      {
       "output_type": "stream",
       "stream": "stdout",
       "text": [
        "True\n"
       ]
      }
     ],
     "prompt_number": 166
    },
    {
     "cell_type": "code",
     "collapsed": false,
     "input": [
      "#TEST Robust to blank line\n",
      "#Example: \n",
      "\n",
      "sim_file, exp_result = create_test_structures(22)\n",
      "\n",
      "result = parse_stream(sim_file)\n",
      "print result==exp_result"
     ],
     "language": "python",
     "metadata": {},
     "outputs": [
      {
       "output_type": "stream",
       "stream": "stdout",
       "text": [
        "True\n"
       ]
      }
     ],
     "prompt_number": 167
    },
    {
     "cell_type": "code",
     "collapsed": false,
     "input": [
      "print result\n",
      "print exp_result"
     ],
     "language": "python",
     "metadata": {},
     "outputs": [
      {
       "output_type": "stream",
       "stream": "stdout",
       "text": [
        "{'SAMPLE': {'GSM151739': {'NAME': 'GSM151739'}}, 'SERIES': {'GSE6561': {'Series_submission_date': 'Dec 18 2006', 'NAME': 'GSE6561', 'Series_contributor': ['Peter,,Andrews', 'Duncan,,Baker', 'Neil,,Harrison'], 'Series_status': 'Public on Feb 10 2007'}}, 'PLATFORM': {'GPL570': {'Table': ['<Table import not implemented>'], 'NAME': 'GPL570', 'Table_Columns': [('ID', 'Affymetrix Probe Set'), ('GB_ACC', 'GenBank Accession Number')]}}, 'DATABASE': {'GeoMiame': {'Database_name': 'Gene Expression Omnibus (GEO)', 'NAME': 'GeoMiame'}}}\n",
        "{'SAMPLE': {'GSM151739': {'NAME': 'GSM151739'}}, 'SERIES': {'GSE6561': {'Series_submission_date': 'Dec 18 2006', 'NAME': 'GSE6561', 'Series_contributor': ['Peter,,Andrews', 'Duncan,,Baker', 'Neil,,Harrison'], 'Series_status': 'Public on Feb 10 2007'}}, 'PLATFORM': {'GPL570': {'Table': ['<Table import not implemented>'], 'NAME': 'GPL570', 'Table_Columns': [('ID', 'Affymetrix Probe Set'), ('GB_ACC', 'GenBank Accession Number')]}}, 'DATABASE': {'GeoMiame': {'Database_name': 'Gene Expression Omnibus (GEO)', 'NAME': 'GeoMiame'}}}\n"
       ]
      }
     ],
     "prompt_number": 168
    },
    {
     "cell_type": "heading",
     "level": 1,
     "metadata": {},
     "source": [
      "Making tables"
     ]
    },
    {
     "cell_type": "code",
     "collapsed": false,
     "input": [
      "### DataFrame utility\n",
      "\n",
      "def diff_columns(df1, df2):\n",
      "    set1=set(df1.columns)\n",
      "    set2=set(df2.columns)\n",
      "    result = set1.symmetric_difference(set2)\n",
      "    if len(result)==0:\n",
      "        result = None\n",
      "    else:\n",
      "        result = \"Column differences: \" + str(result)\n",
      "    return result\n",
      "\n",
      "def df_diff(df1, df2):\n",
      "    result = diff_columns(df1,df2)\n",
      "    if result == None:\n",
      "        ne = (df1 != df2).any(1)\n",
      "        ne_stacked = (df1 != df2).stack()\n",
      "        if len(ne_stacked) == 0:\n",
      "            return None\n",
      "        changed = ne_stacked[ne_stacked]\n",
      "        changed.index.names = ['id', 'col']\n",
      "        difference_locations = np.where(df1 != df2)\n",
      "        changed_from = df1.values[difference_locations]\n",
      "        changed_to = df2.values[difference_locations]\n",
      "        result = pd.DataFrame({'from': changed_from, 'to': changed_to}, index=changed.index)\n",
      "        if len(result) == 0:\n",
      "            result = None\n",
      "    return result"
     ],
     "language": "python",
     "metadata": {},
     "outputs": [],
     "prompt_number": 169
    },
    {
     "cell_type": "code",
     "collapsed": false,
     "input": [
      "#### Test structures\n",
      "\n",
      "def get_data_for_table_test(test_num):\n",
      "    expected = pd.DataFrame()\n",
      "    if test_num == 1:\n",
      "        test_in = {}\n",
      "    if test_num == 2:\n",
      "        test_in = {'GeoMiame':{'NAME':'GeoMiame'}}\n",
      "        expected = pd.DataFrame(['GeoMiame'], columns=['NAME'], index=['GeoMiame'])\n",
      "    if test_num == 3:\n",
      "\n",
      "        test_in = {'GSM151738':{'NAME':'GSM151738'},\n",
      "                   'GSM151739':{'NAME':'GSM151739'}}\n",
      "        expected = pd.DataFrame(['GSM151738', 'GSM151739'], columns=['NAME'], index=['GSM151738','GSM151739'])\n",
      "    if test_num == 4:\n",
      "        test_in = {'GSM151738':{'NAME':'GSM151738','Series_contact_city':'Sheffield'},\n",
      "                   'GSM151739':{'NAME':'GSM151739','Series_contact_city':'Somewhere City'}}\n",
      "        data = [['GSM151738', 'Sheffield'],\n",
      "                ['GSM151739','Somewhere City']]\n",
      "        expected = pd.DataFrame(data, columns=['NAME','Series_contact_city'], index=['GSM151738','GSM151739'])\n",
      "    if test_num == 5:\n",
      "        test_in = {'GSM151738':{'NAME':'GSM151738','Series_contact_city':'Sheffield'},\n",
      "                   'GSM151739':{'NAME':'GSM151739','city':'Somewhere City'}}\n",
      "        data = [['GSM151738', 'Sheffield', ''],\n",
      "                ['GSM151739','', 'Somewhere City']]\n",
      "        expected = pd.DataFrame(data, columns=['NAME','Series_contact_city', 'city'], index=['GSM151738','GSM151739'])\n",
      "    return test_in, expected"
     ],
     "language": "python",
     "metadata": {},
     "outputs": [],
     "prompt_number": 170
    },
    {
     "cell_type": "code",
     "collapsed": false,
     "input": [
      "def tablize(dict_struct):\n",
      "    result=pd.DataFrame(dict_struct).T\n",
      "    return result"
     ],
     "language": "python",
     "metadata": {},
     "outputs": [],
     "prompt_number": 171
    },
    {
     "cell_type": "code",
     "collapsed": false,
     "input": [
      "#TEST 1: empty table\n",
      "#Example:  \n",
      "sim_file, exp_result = get_data_for_table_test(1)\n",
      "\n",
      "result = tablize(sim_file)\n",
      "diff = df_diff(exp_result, result)\n",
      "\n",
      "print diff == None\n",
      "if diff != None: print diff"
     ],
     "language": "python",
     "metadata": {},
     "outputs": [
      {
       "output_type": "stream",
       "stream": "stdout",
       "text": [
        "True\n"
       ]
      }
     ],
     "prompt_number": 172
    },
    {
     "cell_type": "code",
     "collapsed": false,
     "input": [
      "#TEST 2: 1table, 1 col, 1 row\n",
      "#Example: ^DATABASE = GeoMiame \n",
      "sim_dict, exp_result = get_data_for_table_test(2)\n",
      "\n",
      "result = tablize(sim_dict)\n",
      "diff = df_diff(exp_result, result)\n",
      "\n",
      "print diff == None\n",
      "if diff != None: print diff"
     ],
     "language": "python",
     "metadata": {},
     "outputs": [
      {
       "output_type": "stream",
       "stream": "stdout",
       "text": [
        "True\n"
       ]
      }
     ],
     "prompt_number": 173
    },
    {
     "cell_type": "code",
     "collapsed": false,
     "input": [
      "#TEST 3: 1 table 1 col, 2 rows\n",
      "#Example: ^SAMPLE = GSM151738\n",
      "#         ^SAMPLE = GSM151739\n",
      "sim_dict, exp_result = get_data_for_table_test(3)\n",
      "\n",
      "result = tablize(sim_dict)\n",
      "diff = df_diff(exp_result, result)\n",
      "\n",
      "print diff == None\n",
      "if diff != None: print diff\n",
      "print result"
     ],
     "language": "python",
     "metadata": {},
     "outputs": [
      {
       "output_type": "stream",
       "stream": "stdout",
       "text": [
        "True\n",
        "                NAME\n",
        "GSM151738  GSM151738\n",
        "GSM151739  GSM151739\n"
       ]
      }
     ],
     "prompt_number": 174
    },
    {
     "cell_type": "code",
     "collapsed": false,
     "input": [
      "#TEST 4: 1 table 2 identical col, 2 rows\n",
      "#Example: ^SAMPLE = GSM151738\n",
      "#         !Series_contact_city=Sheffield\n",
      "#         ^SAMPLE = GSM151739\n",
      "#         !Series_contact_city=Somewhere City\n",
      "sim_dict, exp_result = get_data_for_table_test(4)\n",
      "\n",
      "result = tablize(sim_dict)\n",
      "diff = df_diff(exp_result, result)\n",
      "\n",
      "print diff == None\n",
      "if diff != None: print diff\n",
      "print result"
     ],
     "language": "python",
     "metadata": {},
     "outputs": [
      {
       "output_type": "stream",
       "stream": "stdout",
       "text": [
        "True\n",
        "                NAME Series_contact_city\n",
        "GSM151738  GSM151738           Sheffield\n",
        "GSM151739  GSM151739      Somewhere City\n"
       ]
      }
     ],
     "prompt_number": 175
    },
    {
     "cell_type": "code",
     "collapsed": false,
     "input": [
      "#TEST 5: 1 table 2 different col, 2 rows\n",
      "#Example: ^SAMPLE = GSM151738\n",
      "#         !Series_contact_city=Sheffield\n",
      "#         ^SAMPLE = GSM151739\n",
      "#         !city=Somewhere City\n",
      "sim_dict, exp_result = get_data_for_table_test(5)\n",
      "\n",
      "result = tablize(sim_dict)\n",
      "diff = df_diff(exp_result, result)\n",
      "\n",
      "print diff\n",
      "print result"
     ],
     "language": "python",
     "metadata": {},
     "outputs": [
      {
       "output_type": "stream",
       "stream": "stdout",
       "text": [
        "                              from   to\n",
        "id        col                          \n",
        "GSM151738 city                      NaN\n",
        "GSM151739 Series_contact_city       NaN\n",
        "                NAME Series_contact_city            city\n",
        "GSM151738  GSM151738           Sheffield             NaN\n",
        "GSM151739  GSM151739                 NaN  Somewhere City\n"
       ]
      }
     ],
     "prompt_number": 176
    },
    {
     "cell_type": "heading",
     "level": 1,
     "metadata": {},
     "source": [
      "Parsing file"
     ]
    },
    {
     "cell_type": "code",
     "collapsed": false,
     "input": [
      "def mult_tablize(dict_result):\n",
      "    result = {}\n",
      "    for key,value in dict_result.items():\n",
      "        result[key]=tablize(value)\n",
      "    return result"
     ],
     "language": "python",
     "metadata": {},
     "outputs": [],
     "prompt_number": 189
    },
    {
     "cell_type": "code",
     "collapsed": true,
     "input": [
      "f = open(METADATA_FILE_NAME,\"r\")\n",
      "whole_file = f.read()\n",
      "result = parse_stream(whole_file)\n",
      "tables = mult_tablize(result)\n",
      "print tables"
     ],
     "language": "python",
     "metadata": {},
     "outputs": [
      {
       "output_type": "stream",
       "stream": "stdout",
       "text": [
        "{'SAMPLE': <class 'pandas.core.frame.DataFrame'>\n",
        "Index: 1 entries, GSM151739 to GSM151739\n",
        "Data columns (total 38 columns):\n",
        "NAME                              1  non-null values\n",
        "Sample_channel_count              1  non-null values\n",
        "Sample_characteristics_ch1        1  non-null values\n",
        "Sample_contact_address            1  non-null values\n",
        "Sample_contact_city               1  non-null values\n",
        "Sample_contact_country            1  non-null values\n",
        "Sample_contact_department         1  non-null values\n",
        "Sample_contact_email              1  non-null values\n",
        "Sample_contact_institute          1  non-null values\n",
        "Sample_contact_laboratory         1  non-null values\n",
        "Sample_contact_name               1  non-null values\n",
        "Sample_contact_state              1  non-null values\n",
        "Sample_contact_zip/postal_code    1  non-null values\n",
        "Sample_data_processing            1  non-null values\n",
        "Sample_data_row_count             1  non-null values\n",
        "Sample_description                1  non-null values\n",
        "Sample_extract_protocol_ch1       1  non-null values\n",
        "Sample_geo_accession              1  non-null values\n",
        "Sample_growth_protocol_ch1        1  non-null values\n",
        "Sample_hyb_protocol               1  non-null values\n",
        "Sample_label_ch1                  1  non-null values\n",
        "Sample_label_protocol_ch1         1  non-null values\n",
        "Sample_last_update_date           1  non-null values\n",
        "Sample_molecule_ch1               1  non-null values\n",
        "Sample_organism_ch1               1  non-null values\n",
        "Sample_platform_id                1  non-null values\n",
        "Sample_scan_protocol              1  non-null values\n",
        "Sample_series_id                  1  non-null values\n",
        "Sample_source_name_ch1            1  non-null values\n",
        "Sample_status                     1  non-null values\n",
        "Sample_submission_date            1  non-null values\n",
        "Sample_supplementary_file         1  non-null values\n",
        "Sample_taxid_ch1                  1  non-null values\n",
        "Sample_title                      1  non-null values\n",
        "Sample_treatment_protocol_ch1     1  non-null values\n",
        "Sample_type                       1  non-null values\n",
        "Table                             1  non-null values\n",
        "Table_Columns                     1  non-null values\n",
        "dtypes: object(38), 'SERIES': <class 'pandas.core.frame.DataFrame'>\n",
        "Index: 1 entries, GSE6561 to GSE6561\n",
        "Data columns (total 27 columns):\n",
        "NAME                              1  non-null values\n",
        "Series_contact_address            1  non-null values\n",
        "Series_contact_city               1  non-null values\n",
        "Series_contact_country            1  non-null values\n",
        "Series_contact_department         1  non-null values\n",
        "Series_contact_email              1  non-null values\n",
        "Series_contact_institute          1  non-null values\n",
        "Series_contact_laboratory         1  non-null values\n",
        "Series_contact_name               1  non-null values\n",
        "Series_contact_state              1  non-null values\n",
        "Series_contact_zip/postal_code    1  non-null values\n",
        "Series_contributor                1  non-null values\n",
        "Series_geo_accession              1  non-null values\n",
        "Series_last_update_date           1  non-null values\n",
        "Series_overall_design             1  non-null values\n",
        "Series_platform_id                1  non-null values\n",
        "Series_platform_taxid             1  non-null values\n",
        "Series_pubmed_id                  1  non-null values\n",
        "Series_relation                   1  non-null values\n",
        "Series_sample_id                  1  non-null values\n",
        "Series_sample_taxid               1  non-null values\n",
        "Series_status                     1  non-null values\n",
        "Series_submission_date            1  non-null values\n",
        "Series_summary                    1  non-null values\n",
        "Series_supplementary_file         1  non-null values\n",
        "Series_title                      1  non-null values\n",
        "Series_type                       1  non-null values\n",
        "dtypes: object(27), 'DATABASE':                 Database_email Database_institute  \\\n",
        "GeoMiame  geo@ncbi.nlm.nih.gov       NCBI NLM NIH   \n",
        "\n",
        "                          Database_name                Database_web_link  \\\n",
        "GeoMiame  Gene Expression Omnibus (GEO)  http://www.ncbi.nlm.nih.gov/geo   \n",
        "\n",
        "              NAME  \n",
        "GeoMiame  GeoMiame  , 'PLATFORM': <class 'pandas.core.frame.DataFrame'>\n",
        "Index: 1 entries, GPL570 to GPL570\n",
        "Data columns (total 28 columns):\n",
        "NAME                                1  non-null values\n",
        "Platform_contact_address            1  non-null values\n",
        "Platform_contact_city               1  non-null values\n",
        "Platform_contact_country            1  non-null values\n",
        "Platform_contact_email              1  non-null values\n",
        "Platform_contact_institute          1  non-null values\n",
        "Platform_contact_name               1  non-null values\n",
        "Platform_contact_phone              1  non-null values\n",
        "Platform_contact_state              1  non-null values\n",
        "Platform_contact_web_link           1  non-null values\n",
        "Platform_contact_zip/postal_code    1  non-null values\n",
        "Platform_data_row_count             1  non-null values\n",
        "Platform_description                1  non-null values\n",
        "Platform_distribution               1  non-null values\n",
        "Platform_geo_accession              1  non-null values\n",
        "Platform_last_update_date           1  non-null values\n",
        "Platform_manufacture_protocol       1  non-null values\n",
        "Platform_manufacturer               1  non-null values\n",
        "Platform_organism                   1  non-null values\n",
        "Platform_relation                   1  non-null values\n",
        "Platform_status                     1  non-null values\n",
        "Platform_submission_date            1  non-null values\n",
        "Platform_taxid                      1  non-null values\n",
        "Platform_technology                 1  non-null values\n",
        "Platform_title                      1  non-null values\n",
        "Platform_web_link                   1  non-null values\n",
        "Table                               1  non-null values\n",
        "Table_Columns                       1  non-null values\n",
        "dtypes: object(28)}\n"
       ]
      }
     ],
     "prompt_number": 193
    },
    {
     "cell_type": "code",
     "collapsed": false,
     "input": [
      "#Store results as metadata in Synapse\n",
      "#Required Functions\n",
      "TEST_STRING = \" test A more? (Use space, commas, and such) \"\n",
      "def remove_parens(v,paren_only = False):\n",
      "    new_v=v\n",
      "    if paren_only:\n",
      "        new_v = new_v.replace(\"(\",\"\")\n",
      "        new_v = new_v.replace(\")\",\"\")\n",
      "    else:\n",
      "        loc = new_v.find(\"(\") #Remove everything from first paren on.\n",
      "        if loc != -1:\n",
      "            new_v = new_v[0:loc-1]\n",
      "    return new_v\n",
      "def make_my_name(v):\n",
      "    new_v = v\n",
      "    new_v = remove_parens(new_v)\n",
      "    new_v = new_v.strip()\n",
      "    new_v = new_v.replace(\"-\",\"_\")\n",
      "    new_v = new_v.replace(\" \",\"_\")\n",
      "    if new_v.find(\"?\") != -1:\n",
      "        new_v = \"is_{}\".format(new_v)\n",
      "        new_v = new_v.replace(\"?\",\"\")\n",
      "    new_v = new_v.lower()\n",
      "    return new_v\n",
      "def make_gdata_name(v):\n",
      "    new_v = v\n",
      "    new_v = new_v.replace(\"(\",\"\")\n",
      "    new_v = new_v.replace(\")\",\"\")\n",
      "    new_v = new_v.replace(\" \",\"\")\n",
      "    new_v = new_v.replace(\"?\",\"\")\n",
      "    new_v = new_v.replace(\",\",\"\")\n",
      "    return new_v.lower()\n",
      "def get_col_name_translator(original_col_names,nCols):\n",
      "    return {make_gdata_name(v):make_my_name(v) for v in original_col_names }\n",
      "\n",
      "print make_my_name(TEST_STRING) == \"is_test_a_more\"\n",
      "print make_gdata_name(TEST_STRING) == \"testamoreusespacecommasandsuch\""
     ],
     "language": "python",
     "metadata": {},
     "outputs": [
      {
       "output_type": "stream",
       "stream": "stdout",
       "text": [
        "True\n",
        "True\n"
       ]
      }
     ],
     "prompt_number": 200
    },
    {
     "cell_type": "code",
     "collapsed": false,
     "input": [
      "#Constants\n",
      "\n",
      "import synapseclient\n",
      "import gdata.docs\n",
      "import gdata.docs.service\n",
      "import gdata.spreadsheet.service\n",
      "import re, os\n",
      "\n",
      "USERNAME='shane.hubler@sagebase.org' \n",
      "PASSWORD='' #Doesn't work without password?\n",
      "\n",
      "RECORDSTORE_ID = 'syn2425686'  \n",
      "\n",
      "#Translation of code\n",
      "ID_FIELD_NAME = make_my_name(ORIG_ID_FIELD_NAME) #reformat_field_name(ID_FIELD_NAME)\n",
      "GDATA_ID_FIELD_NAME = make_gdata_name(ORIG_ID_FIELD_NAME)\n",
      "#ID_FIELD_NAME = ID_FIELD_NAME.replace(\" \", \"\") #The spaces are stripped from the actual field names by gdata\n",
      "#ID_FIELD_NAME = ID_FIELD_NAME.lower() # ... and the field names are reduced to lower case but are still case sensitive\n",
      "#WORKSHEET_PAGE = WORKSHEET_PAGE - 1 # gdata is zero-based"
     ],
     "language": "python",
     "metadata": {},
     "outputs": [
      {
       "ename": "ImportError",
       "evalue": "No module named synapseclient",
       "output_type": "pyerr",
       "traceback": [
        "\u001b[1;31m---------------------------------------------------------------------------\u001b[0m\n\u001b[1;31mImportError\u001b[0m                               Traceback (most recent call last)",
        "\u001b[1;32m<ipython-input-201-05551cb8834a>\u001b[0m in \u001b[0;36m<module>\u001b[1;34m()\u001b[0m\n\u001b[0;32m      1\u001b[0m \u001b[1;31m#Constants\u001b[0m\u001b[1;33m\u001b[0m\u001b[1;33m\u001b[0m\u001b[0m\n\u001b[0;32m      2\u001b[0m \u001b[1;33m\u001b[0m\u001b[0m\n\u001b[1;32m----> 3\u001b[1;33m \u001b[1;32mimport\u001b[0m \u001b[0msynapseclient\u001b[0m\u001b[1;33m\u001b[0m\u001b[0m\n\u001b[0m\u001b[0;32m      4\u001b[0m \u001b[1;32mimport\u001b[0m \u001b[0mgdata\u001b[0m\u001b[1;33m.\u001b[0m\u001b[0mdocs\u001b[0m\u001b[1;33m\u001b[0m\u001b[0m\n\u001b[0;32m      5\u001b[0m \u001b[1;32mimport\u001b[0m \u001b[0mgdata\u001b[0m\u001b[1;33m.\u001b[0m\u001b[0mdocs\u001b[0m\u001b[1;33m.\u001b[0m\u001b[0mservice\u001b[0m\u001b[1;33m\u001b[0m\u001b[0m\n",
        "\u001b[1;31mImportError\u001b[0m: No module named synapseclient"
       ]
      }
     ],
     "prompt_number": 201
    },
    {
     "cell_type": "code",
     "collapsed": false,
     "input": [
      "#connect to Synapse\n",
      "syn=synapseclient.Synapse()\n",
      "syn.login() \n",
      "\n",
      "## Connect to Google\n",
      "#gd_client = gdata.spreadsheet.service.SpreadsheetsService()\n",
      "#gd_client.source = 'sagebase_createRecordStoreFromGoogleDoc'\n",
      "#gd_client.email = USERNAME\n",
      "#gd_client.password = PASSWORD\n",
      "##gd_client.ClientLogin(username=USERNAME,password=PASSWORD)\n",
      "#gd_client.ProgrammaticLogin()\n",
      "#\n",
      "### Find the right spreadsheet and open the document for reading\n",
      "#q = gdata.spreadsheet.service.DocumentQuery()\n",
      "#q['title'] = DOCNAME\n",
      "#q['title-exact'] = 'true'"
     ],
     "language": "python",
     "metadata": {},
     "outputs": []
    },
    {
     "cell_type": "code",
     "collapsed": false,
     "input": [
      "#PAGE_NUMBER=7\n",
      "#q = gdata.spreadsheet.service.DocumentQuery()\n",
      "#q['title'] = DOCNAME\n",
      "#q['title-exact'] = 'true'\n",
      "#spreadsheets_feed = gd_client.GetSpreadsheetsFeed(query=q)\n",
      "#spreadsheet_id = spreadsheets_feed.entry[0].id.text.rsplit('/',1)[1]\n",
      "#feed = gd_client.GetWorksheetsFeed(spreadsheet_id)\n",
      "#worksheet_id = feed.entry[PAGE_NUMBER].id.text.rsplit('/',1)[1]\n",
      "#\n",
      "#\n",
      "##rows = gd_client.GetListFeed(spreadsheet_id, worksheet_id).entry"
     ],
     "language": "python",
     "metadata": {},
     "outputs": []
    },
    {
     "cell_type": "code",
     "collapsed": false,
     "input": [
      "#rows = gd_client.GetListFeed(spreadsheet_id, worksheet_id).entry\n",
      "#g_data_row_names = rows[0].custom\n",
      "#nCols=len(g_data_row_names)\n",
      "#print nCols\n",
      "#print \"\\n\".join(sorted(list(set(g_data_row_names.keys()))))\n",
      "#print set(get_col_name_translator(gd_client,nCols).keys())\n",
      "#print set(get_col_name_translator(gd_client,nCols).items())\n"
     ],
     "language": "python",
     "metadata": {},
     "outputs": []
    },
    {
     "cell_type": "code",
     "collapsed": false,
     "input": [
      "cur_table = tables['SAMPLE']\n",
      "print cur_table"
     ],
     "language": "python",
     "metadata": {},
     "outputs": [
      {
       "output_type": "stream",
       "stream": "stdout",
       "text": [
        "<class 'pandas.core.frame.DataFrame'>\n",
        "Index: 1 entries, GSM151739 to GSM151739\n",
        "Data columns (total 38 columns):\n",
        "NAME                              1  non-null values\n",
        "Sample_channel_count              1  non-null values\n",
        "Sample_characteristics_ch1        1  non-null values\n",
        "Sample_contact_address            1  non-null values\n",
        "Sample_contact_city               1  non-null values\n",
        "Sample_contact_country            1  non-null values\n",
        "Sample_contact_department         1  non-null values\n",
        "Sample_contact_email              1  non-null values\n",
        "Sample_contact_institute          1  non-null values\n",
        "Sample_contact_laboratory         1  non-null values\n",
        "Sample_contact_name               1  non-null values\n",
        "Sample_contact_state              1  non-null values\n",
        "Sample_contact_zip/postal_code    1  non-null values\n",
        "Sample_data_processing            1  non-null values\n",
        "Sample_data_row_count             1  non-null values\n",
        "Sample_description                1  non-null values\n",
        "Sample_extract_protocol_ch1       1  non-null values\n",
        "Sample_geo_accession              1  non-null values\n",
        "Sample_growth_protocol_ch1        1  non-null values\n",
        "Sample_hyb_protocol               1  non-null values\n",
        "Sample_label_ch1                  1  non-null values\n",
        "Sample_label_protocol_ch1         1  non-null values\n",
        "Sample_last_update_date           1  non-null values\n",
        "Sample_molecule_ch1               1  non-null values\n",
        "Sample_organism_ch1               1  non-null values\n",
        "Sample_platform_id                1  non-null values\n",
        "Sample_scan_protocol              1  non-null values\n",
        "Sample_series_id                  1  non-null values\n",
        "Sample_source_name_ch1            1  non-null values\n",
        "Sample_status                     1  non-null values\n",
        "Sample_submission_date            1  non-null values\n",
        "Sample_supplementary_file         1  non-null values\n",
        "Sample_taxid_ch1                  1  non-null values\n",
        "Sample_title                      1  non-null values\n",
        "Sample_treatment_protocol_ch1     1  non-null values\n",
        "Sample_type                       1  non-null values\n",
        "Table                             1  non-null values\n",
        "Table_Columns                     1  non-null values\n",
        "dtypes: object(38)\n"
       ]
      }
     ],
     "prompt_number": 197
    },
    {
     "cell_type": "code",
     "collapsed": false,
     "input": [
      "#Change column names to be easier to read \n",
      "translator = get_col_name_translator(cur_table.columns,nCols)\n",
      "len(translator)"
     ],
     "language": "python",
     "metadata": {},
     "outputs": [
      {
       "ename": "NameError",
       "evalue": "name 'get_col_name_translator' is not defined",
       "output_type": "pyerr",
       "traceback": [
        "\u001b[1;31m---------------------------------------------------------------------------\u001b[0m\n\u001b[1;31mNameError\u001b[0m                                 Traceback (most recent call last)",
        "\u001b[1;32m<ipython-input-199-cd7a0081546a>\u001b[0m in \u001b[0;36m<module>\u001b[1;34m()\u001b[0m\n\u001b[0;32m      1\u001b[0m \u001b[1;31m#Change column names to be easier to read\u001b[0m\u001b[1;33m\u001b[0m\u001b[1;33m\u001b[0m\u001b[0m\n\u001b[1;32m----> 2\u001b[1;33m \u001b[0mtranslator\u001b[0m \u001b[1;33m=\u001b[0m \u001b[0mget_col_name_translator\u001b[0m\u001b[1;33m(\u001b[0m\u001b[0mcur_table\u001b[0m\u001b[1;33m.\u001b[0m\u001b[0mcolumns\u001b[0m\u001b[1;33m,\u001b[0m\u001b[0mnCols\u001b[0m\u001b[1;33m)\u001b[0m\u001b[1;33m\u001b[0m\u001b[0m\n\u001b[0m\u001b[0;32m      3\u001b[0m \u001b[0mlen\u001b[0m\u001b[1;33m(\u001b[0m\u001b[0mtranslator\u001b[0m\u001b[1;33m)\u001b[0m\u001b[1;33m\u001b[0m\u001b[0m\n",
        "\u001b[1;31mNameError\u001b[0m: name 'get_col_name_translator' is not defined"
       ]
      }
     ],
     "prompt_number": 199
    },
    {
     "cell_type": "code",
     "collapsed": false,
     "input": [
      "#Show records, to make sure that we are looking at the right things\n",
      "\n",
      "for row_key in cur_table.index:\n",
      "    for col_key in cur_table.columns:\n",
      "        print \" %s: %s\" % (translator[col_key], cur_table.ix[row_key,col_key] row.custom[key].text)\n",
      "    print"
     ],
     "language": "python",
     "metadata": {},
     "outputs": []
    },
    {
     "cell_type": "code",
     "collapsed": false,
     "input": [
      "for row in rows:\n",
      "    sampleName = row.custom[GDATA_ID_FIELD_NAME].text\n",
      "    record = synapseclient.Folder(name=sampleName, parentId=FAKE_RECORDSTORE_ID)\n",
      "    for key in row.custom:\n",
      "        if key == GDATA_ID_FIELD_NAME:\n",
      "            record['decoratedName'] = sampleName\n",
      "        else:\n",
      "            val = row.custom[key].text\n",
      "            #val = None if val=='na' else val\n",
      "            #val = None if val=='N/A' else val\n",
      "            #val = None if val=='UNK' else val\n",
      "\n",
      "            if val is not None:\n",
      "                try:\n",
      "                    val = int(val)\n",
      "                except ValueError:\n",
      "                    try:\n",
      "                        val = float(val)\n",
      "                    except ValueError:\n",
      "                        pass\n",
      "            record[translator[key]] = val\n",
      "    print record\n",
      "    syn.store(record)"
     ],
     "language": "python",
     "metadata": {},
     "outputs": []
    }
   ],
   "metadata": {}
  }
 ]
}