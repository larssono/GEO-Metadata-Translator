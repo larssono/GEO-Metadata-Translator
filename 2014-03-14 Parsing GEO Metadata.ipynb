{
 "metadata": {
  "name": ""
 },
 "nbformat": 3,
 "nbformat_minor": 0,
 "worksheets": [
  {
   "cells": [
    {
     "cell_type": "code",
     "collapsed": false,
     "input": [
      "import numpy as np\n",
      "import pandas as pd\n",
      "import pylab\n",
      "import os\n",
      "import synapseclient\n",
      "\n",
      "#METADATA_FILE_NAME = os.path.normpath(\"C:/Users/Shane.WIN-6T7VSM1/Desktop/TEST_File_for_testing_parsing.soft\")\n",
      "SYN_ID_METADATA = 'syn2425686' #Metadata directory\n",
      "SYN_ID_SOFT_FILE = 'syn2426026'\n",
      "#SYN_ID's for SOFT files:\n",
      "#    GSE1133   - syn2425976\n",
      "#    GSE36552  - syn2425784\n",
      "#    Test file - syn2426026"
     ],
     "language": "python",
     "metadata": {},
     "outputs": [],
     "prompt_number": 101
    },
    {
     "cell_type": "code",
     "collapsed": false,
     "input": [
      "#Testing support functions\n",
      "\n",
      "def create_test_structures(lines):\n",
      "    if lines>=1: #DATABASE entity\n",
      "        sim_file =            \"^DATABASE = GeoMiame\"\n",
      "        expected_structure = {'DATABASE':{'GeoMiame':{'NAME':'GeoMiame'}}}\n",
      "    if lines>=2: #Variable within DATABASE\n",
      "        sim_file += chr(13) + \"!Database_name = Gene Expression Omnibus (GEO)\"\n",
      "        expected_structure['DATABASE']['GeoMiame']['Database_name']='Gene Expression Omnibus (GEO)'\n",
      "    if lines>=3: #SERIES entity\n",
      "        sim_file += chr(13) + \"^SERIES = GSE6561\"\n",
      "        expected_structure['SERIES']={'GSE6561':{'NAME':'GSE6561'}}\n",
      "    if lines>=4: #SERIES variable\n",
      "        sim_file += chr(13) + \"!Series_status = Public on Feb 10 2007\"\n",
      "        expected_structure['SERIES']['GSE6561']['Series_status']=\"Public on Feb 10 2007\"\n",
      "    if lines>=5: #SERIES variable (another)\n",
      "        sim_file += chr(13) + \"!Series_submission_date = Dec 18 2006 \"\n",
      "        expected_structure['SERIES']['GSE6561']['Series_submission_date']=\"Dec 18 2006\"\n",
      "    if lines>=6: #SERIES repeated variable (1st time)\n",
      "        sim_file += chr(13) + \"!Series_contributor = Peter,,Andrews\"\n",
      "        expected_structure['SERIES']['GSE6561']['Series_contributor']=\"Peter,,Andrews\"\n",
      "    if lines>=7: #SERIES repated variable (2nd time)\n",
      "        sim_file += chr(13) + \"!Series_contributor = Duncan,,Baker\"\n",
      "        expected_structure['SERIES']['GSE6561']['Series_contributor']=[\"Peter,,Andrews\",\n",
      "                                                                       \"Duncan,,Baker\"]\n",
      "    if lines>=8: #SERIES repated variable (3rd time)\n",
      "        sim_file += chr(13) + \"!Series_contributor = Neil,,Harrison\"\n",
      "        expected_structure['SERIES']['GSE6561']['Series_contributor']=[\"Peter,,Andrews\",\n",
      "                                                                       \"Duncan,,Baker\",\n",
      "                                                                       \"Neil,,Harrison\"]\n",
      "    if lines>=9: #PLATFORM\n",
      "        sim_file += chr(13) + \"^PLATFORM = GPL570\"\n",
      "        expected_structure['PLATFORM']={'GPL570':{'NAME':'GPL570'}}\n",
      "    if lines>=10: #Beginning of table definition: First column definition\n",
      "        sim_file += chr(13) + \"#ID = Affymetrix Probe Set\"\n",
      "        expected_structure['PLATFORM']['GPL570']['Table_Columns']=[(\"ID\",\"Affymetrix Probe Set\")]\n",
      "    if lines>=11: #2nd column name of table\n",
      "        sim_file += chr(13) + \"#GB_ACC = GenBank Accession Number\"\n",
      "        expected_structure['PLATFORM']['GPL570']['Table_Columns']=[(\"ID\",\"Affymetrix Probe Set\"),\n",
      "                                                                   (\"GB_ACC\",\"GenBank Accession Number\")]\n",
      "    if lines>=12: #Start of platform table\n",
      "        sim_file += chr(13) + \"!platform_table_begin\"\n",
      "        expected_structure['PLATFORM']['GPL570']['Table']=[\"<Table import not implemented>\"]\n",
      "    if lines>=13: #Start of platform table: column names\n",
      "        sim_file += chr(13) + \"ID\" + chr(9) + \"GB_ACC\"\n",
      "        #no change to structure\n",
      "    if lines>=14: #Start of platform table: values in a able\n",
      "        sim_file += chr(13) + \"xx\" + chr(9) + \"aaa\"\n",
      "        #no change to structure\n",
      "    if lines>=15: #End of table\n",
      "        sim_file += chr(13) + \"!platform_table_end\"\n",
      "        #no change to structure\n",
      "    if lines>=16: #SAMPLE\n",
      "        sim_file += chr(13) + \"^SAMPLE = GSM151738\"\n",
      "        expected_structure['SAMPLE']={'GSM151738':{'NAME':'GSM151738'}}\n",
      "    if lines>=17: #Sample table start\n",
      "        sim_file += chr(13) + \"!sample_table_begin\"\n",
      "        expected_structure['SAMPLE']['GSM151738']['Table']=[\"<Table import not implemented>\"]\n",
      "    if lines>=18: #Sample table: Column lables\n",
      "        sim_file += chr(13) + \"ID_REF\" + chr(9) + \"VALUE\" + chr(9) + \"ABS_CALL\" + chr(9) + \"DETECTION P-VALUE\"\n",
      "        #no change to structure\n",
      "    if lines>=19: #Sample table: line of data\n",
      "        sim_file += chr(13) + \"AFFX-BioB-5_at\" + chr(9) + \"1276.2\" + chr(9) + \"P\" + chr(9) + \"0.000297\"\n",
      "        #no change to structure\n",
      "    if lines>=20: #Sample table: end of table\n",
      "        sim_file += chr(13) + \"!sample_table_end\"\n",
      "        #no change to structure\n",
      "    if lines>=21: #SAMPLE #2\n",
      "        sim_file += chr(13) + \"^SAMPLE = GSM151739\"\n",
      "        expected_structure['SAMPLE']['GSM151739']={'NAME':'GSM151739'}\n",
      "    if lines>=22: #Blank line\n",
      "        sim_file += chr(13)+chr(13) \n",
      "        #No change to structure\n",
      "       \n",
      "    return sim_file, expected_structure\n"
     ],
     "language": "python",
     "metadata": {},
     "outputs": [],
     "prompt_number": 102
    },
    {
     "cell_type": "code",
     "collapsed": false,
     "input": [
      "def safe_get_dict_from_dict(a_dict, a_key):\n",
      "    if a_dict.has_key(a_key) == False:\n",
      "        a_dict[a_key] = {}\n",
      "    result = a_dict[a_key]\n",
      "    return a_dict[a_key]\n",
      "test = {}\n",
      "print safe_get_dict_from_dict(test,\"SAMPLE\") == {}\n",
      "print test == {'SAMPLE': {}}"
     ],
     "language": "python",
     "metadata": {},
     "outputs": [
      {
       "output_type": "stream",
       "stream": "stdout",
       "text": [
        "True\n",
        "True\n"
       ]
      }
     ],
     "prompt_number": 103
    },
    {
     "cell_type": "code",
     "collapsed": false,
     "input": [
      "def identify_prefix(line,char):\n",
      "    before,middle,after=line.partition(char)\n",
      "    if middle==char:\n",
      "        before,middle,after = after.partition(\"=\")\n",
      "        before=before.strip()\n",
      "        after=after.strip()\n",
      "        return True,before,after\n",
      "    else:\n",
      "        return False,\"\",\"\"\n",
      "\n",
      "def parse_line(line,is_in_table):\n",
      "    if is_in_table:\n",
      "        b,s,a = line.partition(\"!\") #Looking for !xxxx_table_end\n",
      "        b,s,a = a.partition(\"_\")\n",
      "        if a==\"table_end\": \n",
      "            return 5,line,\"\"\n",
      "        else: return 4,line,\"\"\n",
      "    found,before,after=identify_prefix(line,\"^\")\n",
      "    if found: return 1,before,after\n",
      "    found,before,after=identify_prefix(line,\"!\")\n",
      "    if found: \n",
      "        b,s,a = before.partition(\"_\")\n",
      "        if a==\"table_begin\":\n",
      "            return 4,before,after\n",
      "        else:\n",
      "            return 2,before,after\n",
      "    found,before,after=identify_prefix(line,\"#\")\n",
      "    if found: return 3,before,after\n",
      "    else: print \"Unable to parse: '\" + line + \"'\"\n",
      "\n",
      "def parse_stream(stream):\n",
      "    #temp_objects=[{},{},{}]\n",
      "    top_obj={}\n",
      "    level=0\n",
      "    var_name=\"\"\n",
      "    is_in_table=False\n",
      "    stream_by_line=stream.splitlines()\n",
      "    objects={}\n",
      "    for line in stream_by_line:\n",
      "        if line != \"\":\n",
      "            prev_level, prev_var_name = (level, var_name)\n",
      "            level,var_name,var_value=parse_line(line,is_in_table)\n",
      "            if level==1: #^\n",
      "                par_obj = safe_get_dict_from_dict(top_obj,var_name)\n",
      "                cur_obj = {\"NAME\":var_value}  #Ex: {\"NAME\":'sample111'} \n",
      "                par_obj[var_value] = cur_obj  #Ex: {'sample111': {\"NAME\":'sample111'}} \n",
      "            if level==2: #!\n",
      "                if (prev_level, prev_var_name)==(level,var_name):\n",
      "                    cur_lst.append(var_value)\n",
      "                    cur_obj[var_name]=cur_lst\n",
      "                else:\n",
      "                    cur_obj[var_name]=var_value\n",
      "                    cur_lst=[var_value]\n",
      "            if level==3: ##\n",
      "                if prev_level != level:\n",
      "                    cur_lst=[]\n",
      "                cur_lst.append((var_name,var_value))\n",
      "                cur_obj[\"Table_Columns\"]=cur_lst\n",
      "            if level==4: #Table\n",
      "                cur_obj[\"Table\"]=[\"<Table import not implemented>\"]\n",
      "                is_in_table=True\n",
      "            if level==5: #End of table\n",
      "                is_in_table=False\n",
      "    \n",
      "    return top_obj"
     ],
     "language": "python",
     "metadata": {},
     "outputs": [],
     "prompt_number": 104
    },
    {
     "cell_type": "code",
     "collapsed": false,
     "input": [
      "#TEST DATABASE line\n",
      "#Example: ^DATABASE = GeoMiame \n",
      "sim_file, exp_result = create_test_structures(1)\n",
      "\n",
      "result = parse_stream(sim_file)\n",
      "print result==exp_result\n",
      "print result\n",
      "print exp_result"
     ],
     "language": "python",
     "metadata": {},
     "outputs": [
      {
       "output_type": "stream",
       "stream": "stdout",
       "text": [
        "True\n",
        "{'DATABASE': {'GeoMiame': {'NAME': 'GeoMiame'}}}\n",
        "{'DATABASE': {'GeoMiame': {'NAME': 'GeoMiame'}}}\n"
       ]
      }
     ],
     "prompt_number": 105
    },
    {
     "cell_type": "code",
     "collapsed": false,
     "input": [
      "#TEST variable \n",
      "#Example: !Database_name = Gene Expression Omnibus (GEO) \n",
      "sim_file, exp_result = create_test_structures(2)\n",
      "\n",
      "result = parse_stream(sim_file)\n",
      "print result==exp_result"
     ],
     "language": "python",
     "metadata": {},
     "outputs": [
      {
       "output_type": "stream",
       "stream": "stdout",
       "text": [
        "True\n"
       ]
      }
     ],
     "prompt_number": 106
    },
    {
     "cell_type": "code",
     "collapsed": false,
     "input": [
      "#TEST SERIES line \n",
      "#Example: ^SERIES = GSE6561\n",
      "sim_file, exp_result = create_test_structures(3)\n",
      "\n",
      "result = parse_stream(sim_file)\n",
      "print result==exp_result"
     ],
     "language": "python",
     "metadata": {},
     "outputs": [
      {
       "output_type": "stream",
       "stream": "stdout",
       "text": [
        "True\n"
       ]
      }
     ],
     "prompt_number": 107
    },
    {
     "cell_type": "code",
     "collapsed": false,
     "input": [
      "#TEST SERIES variable\n",
      "#Example: !Series_status = Public on Feb 10 2007 \n",
      "sim_file, exp_result = create_test_structures(4)\n",
      "\n",
      "result = parse_stream(sim_file)\n",
      "print result==exp_result"
     ],
     "language": "python",
     "metadata": {},
     "outputs": [
      {
       "output_type": "stream",
       "stream": "stdout",
       "text": [
        "True\n"
       ]
      }
     ],
     "prompt_number": 108
    },
    {
     "cell_type": "code",
     "collapsed": false,
     "input": [
      "#TEST SERIES variable (2nd one)\n",
      "#Example: !Series_submission_date = Dec 18 2006 \n",
      "sim_file, exp_result = create_test_structures(5)\n",
      "\n",
      "result = parse_stream(sim_file)\n",
      "print result==exp_result"
     ],
     "language": "python",
     "metadata": {},
     "outputs": [
      {
       "output_type": "stream",
       "stream": "stdout",
       "text": [
        "True\n"
       ]
      }
     ],
     "prompt_number": 109
    },
    {
     "cell_type": "code",
     "collapsed": false,
     "input": [
      "#TEST SERIES repeated variable (first two)\n",
      "#Example: !Series_contributor = Peter,,Andrews\n",
      "#         !Series_contributor = Duncan,,Baker \n",
      "sim_file, exp_result = create_test_structures(7)\n",
      "\n",
      "result = parse_stream(sim_file)\n",
      "print result==exp_result"
     ],
     "language": "python",
     "metadata": {},
     "outputs": [
      {
       "output_type": "stream",
       "stream": "stdout",
       "text": [
        "True\n"
       ]
      }
     ],
     "prompt_number": 110
    },
    {
     "cell_type": "code",
     "collapsed": false,
     "input": [
      "#TEST SERIES repeated variable (three)\n",
      "#Example: !Series_contributor = Peter,,Andrews\n",
      "#         !Series_contributor = Duncan,,Baker \n",
      "#         !Series_contributor = Neil,,Harrison \n",
      "sim_file, exp_result = create_test_structures(8)\n",
      "\n",
      "result = parse_stream(sim_file)\n",
      "print result==exp_result"
     ],
     "language": "python",
     "metadata": {},
     "outputs": [
      {
       "output_type": "stream",
       "stream": "stdout",
       "text": [
        "True\n"
       ]
      }
     ],
     "prompt_number": 111
    },
    {
     "cell_type": "code",
     "collapsed": false,
     "input": [
      "#TEST PLATFORM\n",
      "#Example: ^PLATFORM = GPL570 \n",
      "\n",
      "sim_file, exp_result = create_test_structures(9)\n",
      "\n",
      "result = parse_stream(sim_file)\n",
      "print result==exp_result"
     ],
     "language": "python",
     "metadata": {},
     "outputs": [
      {
       "output_type": "stream",
       "stream": "stdout",
       "text": [
        "True\n"
       ]
      }
     ],
     "prompt_number": 112
    },
    {
     "cell_type": "code",
     "collapsed": false,
     "input": [
      "#TEST First column definition of Platform table\n",
      "#Example: #ID = Affymetrix Probe Set\n",
      "\n",
      "sim_file, exp_result = create_test_structures(10)\n",
      "\n",
      "result = parse_stream(sim_file)\n",
      "print result==exp_result"
     ],
     "language": "python",
     "metadata": {},
     "outputs": [
      {
       "output_type": "stream",
       "stream": "stdout",
       "text": [
        "True\n"
       ]
      }
     ],
     "prompt_number": 113
    },
    {
     "cell_type": "code",
     "collapsed": false,
     "input": [
      "#TEST First column definition of Platform table\n",
      "#Example: #GB_ACC = GenBank Accession Number \n",
      "\n",
      "sim_file, exp_result = create_test_structures(11)\n",
      "\n",
      "result = parse_stream(sim_file)\n",
      "print result==exp_result"
     ],
     "language": "python",
     "metadata": {},
     "outputs": [
      {
       "output_type": "stream",
       "stream": "stdout",
       "text": [
        "True\n"
       ]
      }
     ],
     "prompt_number": 114
    },
    {
     "cell_type": "code",
     "collapsed": false,
     "input": [
      "#TEST Start table\n",
      "#Example: !platform_table_begin \n",
      "\n",
      "sim_file, exp_result = create_test_structures(12)\n",
      "\n",
      "result = parse_stream(sim_file)\n",
      "print result==exp_result"
     ],
     "language": "python",
     "metadata": {},
     "outputs": [
      {
       "output_type": "stream",
       "stream": "stdout",
       "text": [
        "True\n"
       ]
      }
     ],
     "prompt_number": 115
    },
    {
     "cell_type": "code",
     "collapsed": false,
     "input": [
      "#TEST Table: column labels\n",
      "#Example: ID\tGB_ACC\n",
      "\n",
      "sim_file, exp_result = create_test_structures(13)\n",
      "\n",
      "result = parse_stream(sim_file)\n",
      "print result==exp_result"
     ],
     "language": "python",
     "metadata": {},
     "outputs": [
      {
       "output_type": "stream",
       "stream": "stdout",
       "text": [
        "True\n"
       ]
      }
     ],
     "prompt_number": 116
    },
    {
     "cell_type": "code",
     "collapsed": false,
     "input": [
      "#TEST Table: line of data\n",
      "#Example: 1007_s_at\tU48705\n",
      "\n",
      "sim_file, exp_result = create_test_structures(14)\n",
      "\n",
      "result = parse_stream(sim_file)\n",
      "print result==exp_result"
     ],
     "language": "python",
     "metadata": {},
     "outputs": [
      {
       "output_type": "stream",
       "stream": "stdout",
       "text": [
        "True\n"
       ]
      }
     ],
     "prompt_number": 117
    },
    {
     "cell_type": "code",
     "collapsed": false,
     "input": [
      "#TEST Table: end of table\n",
      "#Example: !platform_table_end \n",
      "\n",
      "sim_file, exp_result = create_test_structures(15)\n",
      "\n",
      "result = parse_stream(sim_file)\n",
      "print result==exp_result"
     ],
     "language": "python",
     "metadata": {},
     "outputs": [
      {
       "output_type": "stream",
       "stream": "stdout",
       "text": [
        "True\n"
       ]
      }
     ],
     "prompt_number": 118
    },
    {
     "cell_type": "code",
     "collapsed": false,
     "input": [
      "#TEST Table: SAMPLE\n",
      "#Example: ^SAMPLE = GSM151738\n",
      "\n",
      "sim_file, exp_result = create_test_structures(16)\n",
      "\n",
      "result = parse_stream(sim_file)\n",
      "print result==exp_result"
     ],
     "language": "python",
     "metadata": {},
     "outputs": [
      {
       "output_type": "stream",
       "stream": "stdout",
       "text": [
        "True\n"
       ]
      }
     ],
     "prompt_number": 119
    },
    {
     "cell_type": "code",
     "collapsed": false,
     "input": [
      "#TEST Sample Table: start of table\n",
      "#Example: !sample_table_begin \n",
      "\n",
      "sim_file, exp_result = create_test_structures(17)\n",
      "\n",
      "result = parse_stream(sim_file)\n",
      "print result==exp_result"
     ],
     "language": "python",
     "metadata": {},
     "outputs": [
      {
       "output_type": "stream",
       "stream": "stdout",
       "text": [
        "True\n"
       ]
      }
     ],
     "prompt_number": 120
    },
    {
     "cell_type": "code",
     "collapsed": false,
     "input": [
      "#TEST Sample Table: whole table, start next sample\n",
      "#Example: ID_REF\t        VALUE\tABS_CALL\tDETECTION P-VALUE\n",
      "#         AFFX-BioB-5_at\t21276.2\tP       \t0.000297 \n",
      "#         !sample_table_end \n",
      "#         ^SAMPLE = GSM151739\n",
      "\n",
      "sim_file, exp_result = create_test_structures(21)\n",
      "\n",
      "result = parse_stream(sim_file)\n",
      "print result==exp_result"
     ],
     "language": "python",
     "metadata": {},
     "outputs": [
      {
       "output_type": "stream",
       "stream": "stdout",
       "text": [
        "True\n"
       ]
      }
     ],
     "prompt_number": 121
    },
    {
     "cell_type": "code",
     "collapsed": false,
     "input": [
      "#TEST Robust to blank line\n",
      "#Example: \n",
      "\n",
      "sim_file, exp_result = create_test_structures(22)\n",
      "\n",
      "result = parse_stream(sim_file)\n",
      "print result==exp_result"
     ],
     "language": "python",
     "metadata": {},
     "outputs": [
      {
       "output_type": "stream",
       "stream": "stdout",
       "text": [
        "True\n"
       ]
      }
     ],
     "prompt_number": 122
    },
    {
     "cell_type": "code",
     "collapsed": false,
     "input": [
      "print result\n",
      "print exp_result"
     ],
     "language": "python",
     "metadata": {},
     "outputs": [
      {
       "output_type": "stream",
       "stream": "stdout",
       "text": [
        "{'SAMPLE': {'GSM151739': {'NAME': 'GSM151739'}, 'GSM151738': {'Table': ['<Table import not implemented>'], 'NAME': 'GSM151738'}}, 'SERIES': {'GSE6561': {'Series_submission_date': 'Dec 18 2006', 'NAME': 'GSE6561', 'Series_contributor': ['Peter,,Andrews', 'Duncan,,Baker', 'Neil,,Harrison'], 'Series_status': 'Public on Feb 10 2007'}}, 'PLATFORM': {'GPL570': {'Table': ['<Table import not implemented>'], 'NAME': 'GPL570', 'Table_Columns': [('ID', 'Affymetrix Probe Set'), ('GB_ACC', 'GenBank Accession Number')]}}, 'DATABASE': {'GeoMiame': {'Database_name': 'Gene Expression Omnibus (GEO)', 'NAME': 'GeoMiame'}}}\n",
        "{'SAMPLE': {'GSM151739': {'NAME': 'GSM151739'}, 'GSM151738': {'Table': ['<Table import not implemented>'], 'NAME': 'GSM151738'}}, 'SERIES': {'GSE6561': {'Series_submission_date': 'Dec 18 2006', 'NAME': 'GSE6561', 'Series_contributor': ['Peter,,Andrews', 'Duncan,,Baker', 'Neil,,Harrison'], 'Series_status': 'Public on Feb 10 2007'}}, 'PLATFORM': {'GPL570': {'Table': ['<Table import not implemented>'], 'NAME': 'GPL570', 'Table_Columns': [('ID', 'Affymetrix Probe Set'), ('GB_ACC', 'GenBank Accession Number')]}}, 'DATABASE': {'GeoMiame': {'Database_name': 'Gene Expression Omnibus (GEO)', 'NAME': 'GeoMiame'}}}\n"
       ]
      }
     ],
     "prompt_number": 123
    },
    {
     "cell_type": "heading",
     "level": 1,
     "metadata": {},
     "source": [
      "Making tables"
     ]
    },
    {
     "cell_type": "code",
     "collapsed": false,
     "input": [
      "### DataFrame utility\n",
      "\n",
      "def diff_columns(df1, df2):\n",
      "    set1=set(df1.columns)\n",
      "    set2=set(df2.columns)\n",
      "    result = set1.symmetric_difference(set2)\n",
      "    if len(result)==0:\n",
      "        result = None\n",
      "    else:\n",
      "        result = \"Column differences: \" + str(result)\n",
      "    return result\n",
      "\n",
      "def df_diff(df1, df2):\n",
      "    result = diff_columns(df1,df2)\n",
      "    if result == None:\n",
      "        ne = (df1 != df2).any(1)\n",
      "        ne_stacked = (df1 != df2).stack()\n",
      "        if len(ne_stacked) == 0:\n",
      "            return None\n",
      "        changed = ne_stacked[ne_stacked]\n",
      "        changed.index.names = ['id', 'col']\n",
      "        difference_locations = np.where(df1 != df2)\n",
      "        changed_from = df1.values[difference_locations]\n",
      "        changed_to = df2.values[difference_locations]\n",
      "        result = pd.DataFrame({'from': changed_from, 'to': changed_to}, index=changed.index)\n",
      "        if len(result) == 0:\n",
      "            result = None\n",
      "    return result"
     ],
     "language": "python",
     "metadata": {},
     "outputs": [],
     "prompt_number": 124
    },
    {
     "cell_type": "code",
     "collapsed": false,
     "input": [
      "#### Test structures\n",
      "\n",
      "def get_data_for_table_test(test_num):\n",
      "    expected = pd.DataFrame()\n",
      "    if test_num == 1:\n",
      "        test_in = {}\n",
      "    if test_num == 2:\n",
      "        test_in = {'GeoMiame':{'NAME':'GeoMiame'}}\n",
      "        expected = pd.DataFrame(['GeoMiame'], columns=['NAME'], index=['GeoMiame'])\n",
      "    if test_num == 3:\n",
      "\n",
      "        test_in = {'GSM151738':{'NAME':'GSM151738'},\n",
      "                   'GSM151739':{'NAME':'GSM151739'}}\n",
      "        expected = pd.DataFrame(['GSM151738', 'GSM151739'], columns=['NAME'], index=['GSM151738','GSM151739'])\n",
      "    if test_num == 4:\n",
      "        test_in = {'GSM151738':{'NAME':'GSM151738','Series_contact_city':'Sheffield'},\n",
      "                   'GSM151739':{'NAME':'GSM151739','Series_contact_city':'Somewhere City'}}\n",
      "        data = [['GSM151738', 'Sheffield'],\n",
      "                ['GSM151739','Somewhere City']]\n",
      "        expected = pd.DataFrame(data, columns=['NAME','Series_contact_city'], index=['GSM151738','GSM151739'])\n",
      "    if test_num == 5:\n",
      "        test_in = {'GSM151738':{'NAME':'GSM151738','Series_contact_city':'Sheffield'},\n",
      "                   'GSM151739':{'NAME':'GSM151739','city':'Somewhere City'}}\n",
      "        data = [['GSM151738', 'Sheffield', ''],\n",
      "                ['GSM151739','', 'Somewhere City']]\n",
      "        expected = pd.DataFrame(data, columns=['NAME','Series_contact_city', 'city'], index=['GSM151738','GSM151739'])\n",
      "    return test_in, expected"
     ],
     "language": "python",
     "metadata": {},
     "outputs": [],
     "prompt_number": 125
    },
    {
     "cell_type": "code",
     "collapsed": false,
     "input": [
      "def tablize(dict_struct):\n",
      "    result=pd.DataFrame(dict_struct).T\n",
      "    return result"
     ],
     "language": "python",
     "metadata": {},
     "outputs": [],
     "prompt_number": 126
    },
    {
     "cell_type": "code",
     "collapsed": false,
     "input": [
      "#TEST 1: empty table\n",
      "#Example:  \n",
      "sim_file, exp_result = get_data_for_table_test(1)\n",
      "\n",
      "result = tablize(sim_file)\n",
      "diff = df_diff(exp_result, result)\n",
      "\n",
      "print diff == None\n",
      "if diff != None: print diff"
     ],
     "language": "python",
     "metadata": {},
     "outputs": [
      {
       "output_type": "stream",
       "stream": "stdout",
       "text": [
        "True\n"
       ]
      }
     ],
     "prompt_number": 127
    },
    {
     "cell_type": "code",
     "collapsed": false,
     "input": [
      "#TEST 2: 1table, 1 col, 1 row\n",
      "#Example: ^DATABASE = GeoMiame \n",
      "sim_dict, exp_result = get_data_for_table_test(2)\n",
      "\n",
      "result = tablize(sim_dict)\n",
      "diff = df_diff(exp_result, result)\n",
      "\n",
      "print diff == None\n",
      "if diff != None: print diff"
     ],
     "language": "python",
     "metadata": {},
     "outputs": [
      {
       "output_type": "stream",
       "stream": "stdout",
       "text": [
        "True\n"
       ]
      }
     ],
     "prompt_number": 128
    },
    {
     "cell_type": "code",
     "collapsed": false,
     "input": [
      "#TEST 3: 1 table 1 col, 2 rows\n",
      "#Example: ^SAMPLE = GSM151738\n",
      "#         ^SAMPLE = GSM151739\n",
      "sim_dict, exp_result = get_data_for_table_test(3)\n",
      "\n",
      "result = tablize(sim_dict)\n",
      "diff = df_diff(exp_result, result)\n",
      "\n",
      "print diff == None\n",
      "if diff != None: print diff\n",
      "print result"
     ],
     "language": "python",
     "metadata": {},
     "outputs": [
      {
       "output_type": "stream",
       "stream": "stdout",
       "text": [
        "True\n",
        "                NAME\n",
        "GSM151738  GSM151738\n",
        "GSM151739  GSM151739\n"
       ]
      }
     ],
     "prompt_number": 129
    },
    {
     "cell_type": "code",
     "collapsed": false,
     "input": [
      "#TEST 4: 1 table 2 identical col, 2 rows\n",
      "#Example: ^SAMPLE = GSM151738\n",
      "#         !Series_contact_city=Sheffield\n",
      "#         ^SAMPLE = GSM151739\n",
      "#         !Series_contact_city=Somewhere City\n",
      "sim_dict, exp_result = get_data_for_table_test(4)\n",
      "\n",
      "result = tablize(sim_dict)\n",
      "diff = df_diff(exp_result, result)\n",
      "\n",
      "print diff == None\n",
      "if diff != None: print diff\n",
      "print result"
     ],
     "language": "python",
     "metadata": {},
     "outputs": [
      {
       "output_type": "stream",
       "stream": "stdout",
       "text": [
        "True\n",
        "                NAME Series_contact_city\n",
        "GSM151738  GSM151738           Sheffield\n",
        "GSM151739  GSM151739      Somewhere City\n"
       ]
      }
     ],
     "prompt_number": 130
    },
    {
     "cell_type": "code",
     "collapsed": false,
     "input": [
      "#TEST 5: 1 table 2 different col, 2 rows\n",
      "#Example: ^SAMPLE = GSM151738\n",
      "#         !Series_contact_city=Sheffield\n",
      "#         ^SAMPLE = GSM151739\n",
      "#         !city=Somewhere City\n",
      "sim_dict, exp_result = get_data_for_table_test(5)\n",
      "\n",
      "result = tablize(sim_dict)\n",
      "diff = df_diff(exp_result, result)\n",
      "\n",
      "print diff\n",
      "print result"
     ],
     "language": "python",
     "metadata": {},
     "outputs": [
      {
       "output_type": "stream",
       "stream": "stdout",
       "text": [
        "                              from   to\n",
        "id        col                          \n",
        "GSM151738 city                      NaN\n",
        "GSM151739 Series_contact_city       NaN\n",
        "                NAME Series_contact_city            city\n",
        "GSM151738  GSM151738           Sheffield             NaN\n",
        "GSM151739  GSM151739                 NaN  Somewhere City\n"
       ]
      }
     ],
     "prompt_number": 131
    },
    {
     "cell_type": "heading",
     "level": 1,
     "metadata": {},
     "source": [
      "Parsing file"
     ]
    },
    {
     "cell_type": "code",
     "collapsed": false,
     "input": [
      "def mult_tablize(dict_result):\n",
      "    result = {}\n",
      "    for key,value in dict_result.items():\n",
      "        result[key]=tablize(value)\n",
      "    return result"
     ],
     "language": "python",
     "metadata": {},
     "outputs": [],
     "prompt_number": 132
    },
    {
     "cell_type": "code",
     "collapsed": false,
     "input": [
      "#connect to Synapse\n",
      "syn=synapseclient.Synapse()\n",
      "syn.login() \n",
      "\n",
      "## Connect to Google\n",
      "#gd_client = gdata.spreadsheet.service.SpreadsheetsService()\n",
      "#gd_client.source = 'sagebase_createRecordStoreFromGoogleDoc'\n",
      "#gd_client.email = USERNAME\n",
      "#gd_client.password = PASSWORD\n",
      "##gd_client.ClientLogin(username=USERNAME,password=PASSWORD)\n",
      "#gd_client.ProgrammaticLogin()\n",
      "#\n",
      "### Find the right spreadsheet and open the document for reading\n",
      "#q = gdata.spreadsheet.service.DocumentQuery()\n",
      "#q['title'] = DOCNAME\n",
      "#q['title-exact'] = 'true'\n",
      "dataent=syn.get(SYN_ID_SOFT_FILE)\n",
      "f=open(dataent.path,'r')\n",
      "whole_file = f.read()"
     ],
     "language": "python",
     "metadata": {},
     "outputs": [
      {
       "output_type": "stream",
       "stream": "stdout",
       "text": [
        "Could not find a config file (/Users/Shane/.synapseConfig).  Using defaults.\n",
        "Welcome, shane.hubler@sagebase.org!"
       ]
      },
      {
       "output_type": "stream",
       "stream": "stdout",
       "text": [
        "\n"
       ]
      }
     ],
     "prompt_number": 133
    },
    {
     "cell_type": "code",
     "collapsed": true,
     "input": [
      "#f = open(METADATA_FILE_NAME,\"r\")\n",
      "#    dataEnt=syn.get(DATA_ID)\n",
      "#    df=pd.read_csv(dataEnt.path, sep='\\t', index_col=0)\n",
      "\n",
      "result = parse_stream(whole_file)\n",
      "tables = mult_tablize(result)\n",
      "print tables"
     ],
     "language": "python",
     "metadata": {},
     "outputs": [
      {
       "output_type": "stream",
       "stream": "stdout",
       "text": [
        "{'SAMPLE': <class 'pandas.core.frame.DataFrame'>\n",
        "Index: 2 entries, GSM151738 to GSM151739\n",
        "Data columns (total 38 columns):\n",
        "NAME                              2  non-null values\n",
        "Sample_channel_count              2  non-null values\n",
        "Sample_characteristics_ch1        2  non-null values\n",
        "Sample_contact_address            2  non-null values\n",
        "Sample_contact_city               2  non-null values\n",
        "Sample_contact_country            2  non-null values\n",
        "Sample_contact_department         2  non-null values\n",
        "Sample_contact_email              2  non-null values\n",
        "Sample_contact_institute          2  non-null values\n",
        "Sample_contact_laboratory         2  non-null values\n",
        "Sample_contact_name               2  non-null values\n",
        "Sample_contact_state              2  non-null values\n",
        "Sample_contact_zip/postal_code    2  non-null values\n",
        "Sample_data_processing            2  non-null values\n",
        "Sample_data_row_count             2  non-null values\n",
        "Sample_description                2  non-null values\n",
        "Sample_extract_protocol_ch1       2  non-null values\n",
        "Sample_geo_accession              2  non-null values\n",
        "Sample_growth_protocol_ch1        2  non-null values\n",
        "Sample_hyb_protocol               2  non-null values\n",
        "Sample_label_ch1                  2  non-null values\n",
        "Sample_label_protocol_ch1         2  non-null values\n",
        "Sample_last_update_date           2  non-null values\n",
        "Sample_molecule_ch1               2  non-null values\n",
        "Sample_organism_ch1               2  non-null values\n",
        "Sample_platform_id                2  non-null values\n",
        "Sample_scan_protocol              2  non-null values\n",
        "Sample_series_id                  2  non-null values\n",
        "Sample_source_name_ch1            2  non-null values\n",
        "Sample_status                     2  non-null values\n",
        "Sample_submission_date            2  non-null values\n",
        "Sample_supplementary_file         2  non-null values\n",
        "Sample_taxid_ch1                  2  non-null values\n",
        "Sample_title                      2  non-null values\n",
        "Sample_treatment_protocol_ch1     2  non-null values\n",
        "Sample_type                       2  non-null values\n",
        "Table                             2  non-null values\n",
        "Table_Columns                     1  non-null values\n",
        "dtypes: object(38), 'SERIES': <class 'pandas.core.frame.DataFrame'>\n",
        "Index: 1 entries, GSE6561 to GSE6561\n",
        "Data columns (total 27 columns):\n",
        "NAME                              1  non-null values\n",
        "Series_contact_address            1  non-null values\n",
        "Series_contact_city               1  non-null values\n",
        "Series_contact_country            1  non-null values\n",
        "Series_contact_department         1  non-null values\n",
        "Series_contact_email              1  non-null values\n",
        "Series_contact_institute          1  non-null values\n",
        "Series_contact_laboratory         1  non-null values\n",
        "Series_contact_name               1  non-null values\n",
        "Series_contact_state              1  non-null values\n",
        "Series_contact_zip/postal_code    1  non-null values\n",
        "Series_contributor                1  non-null values\n",
        "Series_geo_accession              1  non-null values\n",
        "Series_last_update_date           1  non-null values\n",
        "Series_overall_design             1  non-null values\n",
        "Series_platform_id                1  non-null values\n",
        "Series_platform_taxid             1  non-null values\n",
        "Series_pubmed_id                  1  non-null values\n",
        "Series_relation                   1  non-null values\n",
        "Series_sample_id                  1  non-null values\n",
        "Series_sample_taxid               1  non-null values\n",
        "Series_status                     1  non-null values\n",
        "Series_submission_date            1  non-null values\n",
        "Series_summary                    1  non-null values\n",
        "Series_supplementary_file         1  non-null values\n",
        "Series_title                      1  non-null values\n",
        "Series_type                       1  non-null values\n",
        "dtypes: object(27), 'DATABASE':                 Database_email Database_institute  \\\n",
        "GeoMiame  geo@ncbi.nlm.nih.gov       NCBI NLM NIH   \n",
        "\n",
        "                          Database_name                Database_web_link  \\\n",
        "GeoMiame  Gene Expression Omnibus (GEO)  http://www.ncbi.nlm.nih.gov/geo   \n",
        "\n",
        "              NAME  \n",
        "GeoMiame  GeoMiame  , 'PLATFORM': <class 'pandas.core.frame.DataFrame'>\n",
        "Index: 1 entries, GPL570 to GPL570\n",
        "Data columns (total 28 columns):\n",
        "NAME                                1  non-null values\n",
        "Platform_contact_address            1  non-null values\n",
        "Platform_contact_city               1  non-null values\n",
        "Platform_contact_country            1  non-null values\n",
        "Platform_contact_email              1  non-null values\n",
        "Platform_contact_institute          1  non-null values\n",
        "Platform_contact_name               1  non-null values\n",
        "Platform_contact_phone              1  non-null values\n",
        "Platform_contact_state              1  non-null values\n",
        "Platform_contact_web_link           1  non-null values\n",
        "Platform_contact_zip/postal_code    1  non-null values\n",
        "Platform_data_row_count             1  non-null values\n",
        "Platform_description                1  non-null values\n",
        "Platform_distribution               1  non-null values\n",
        "Platform_geo_accession              1  non-null values\n",
        "Platform_last_update_date           1  non-null values\n",
        "Platform_manufacture_protocol       1  non-null values\n",
        "Platform_manufacturer               1  non-null values\n",
        "Platform_organism                   1  non-null values\n",
        "Platform_relation                   1  non-null values\n",
        "Platform_status                     1  non-null values\n",
        "Platform_submission_date            1  non-null values\n",
        "Platform_taxid                      1  non-null values\n",
        "Platform_technology                 1  non-null values\n",
        "Platform_title                      1  non-null values\n",
        "Platform_web_link                   1  non-null values\n",
        "Table                               1  non-null values\n",
        "Table_Columns                       1  non-null values\n",
        "dtypes: object(28)}\n"
       ]
      }
     ],
     "prompt_number": 134
    },
    {
     "cell_type": "code",
     "collapsed": false,
     "input": [
      "#Store results as metadata in Synapse\n",
      "#Required Functions\n",
      "TEST_STRING = \" test A more? (Use space, commas, and such) \"\n",
      "def remove_parens(v,paren_only = False):\n",
      "    new_v=v\n",
      "    if paren_only:\n",
      "        new_v = new_v.replace(\"(\",\"\")\n",
      "        new_v = new_v.replace(\")\",\"\")\n",
      "    else:\n",
      "        loc = new_v.find(\"(\") #Remove everything from first paren on.\n",
      "        if loc != -1:\n",
      "            new_v = new_v[0:loc-1]\n",
      "    return new_v\n",
      "def make_my_name(v):\n",
      "    new_v = v\n",
      "    new_v = remove_parens(new_v)\n",
      "    new_v = new_v.strip()\n",
      "    new_v = new_v.replace(\"-\",\"_\")\n",
      "    new_v = new_v.replace(\" \",\"_\")\n",
      "    if new_v.find(\"?\") != -1:\n",
      "        new_v = \"is_{}\".format(new_v)\n",
      "        new_v = new_v.replace(\"?\",\"\")\n",
      "    new_v = new_v.lower()\n",
      "    return new_v\n",
      "def make_gdata_name(v):\n",
      "    new_v = v\n",
      "    new_v = new_v.replace(\"(\",\"\")\n",
      "    new_v = new_v.replace(\")\",\"\")\n",
      "    new_v = new_v.replace(\" \",\"\")\n",
      "    new_v = new_v.replace(\"?\",\"\")\n",
      "    new_v = new_v.replace(\",\",\"\")\n",
      "    return new_v.lower()\n",
      "def get_col_name_translator(original_col_names,nCols):\n",
      "    return {make_gdata_name(v):make_my_name(v) for v in original_col_names }\n",
      "\n",
      "print make_my_name(TEST_STRING) == \"is_test_a_more\"\n",
      "print make_gdata_name(TEST_STRING) == \"testamoreusespacecommasandsuch\""
     ],
     "language": "python",
     "metadata": {},
     "outputs": [
      {
       "output_type": "stream",
       "stream": "stdout",
       "text": [
        "True\n",
        "True\n"
       ]
      }
     ],
     "prompt_number": 135
    },
    {
     "cell_type": "code",
     "collapsed": false,
     "input": [
      "#Constants\n",
      "\n",
      "import synapseclient\n",
      "import gdata.docs\n",
      "import gdata.docs.service\n",
      "import gdata.spreadsheet.service\n",
      "import re, os\n",
      "\n",
      "USERNAME='shane.hubler@sagebase.org' \n",
      "PASSWORD='' #Doesn't work without password?\n",
      "\n",
      "#RECORDSTORE_ID = 'syn2425686'  \n",
      "\n",
      "#Translation of code\n",
      "ID_FIELD_NAME = \"NAME\" #reformat_field_name(ID_FIELD_NAME)\n",
      "#GDATA_ID_FIELD_NAME = make_gdata_name(ORIG_ID_FIELD_NAME)\n",
      "#ID_FIELD_NAME = ID_FIELD_NAME.replace(\" \", \"\") #The spaces are stripped from the actual field names by gdata\n",
      "#ID_FIELD_NAME = ID_FIELD_NAME.lower() # ... and the field names are reduced to lower case but are still case sensitive\n",
      "#WORKSHEET_PAGE = WORKSHEET_PAGE - 1 # gdata is zero-based"
     ],
     "language": "python",
     "metadata": {},
     "outputs": [],
     "prompt_number": 136
    },
    {
     "cell_type": "code",
     "collapsed": false,
     "input": [
      "#PAGE_NUMBER=7\n",
      "#q = gdata.spreadsheet.service.DocumentQuery()\n",
      "#q['title'] = DOCNAME\n",
      "#q['title-exact'] = 'true'\n",
      "#spreadsheets_feed = gd_client.GetSpreadsheetsFeed(query=q)\n",
      "#spreadsheet_id = spreadsheets_feed.entry[0].id.text.rsplit('/',1)[1]\n",
      "#feed = gd_client.GetWorksheetsFeed(spreadsheet_id)\n",
      "#worksheet_id = feed.entry[PAGE_NUMBER].id.text.rsplit('/',1)[1]\n",
      "#\n",
      "#\n",
      "##rows = gd_client.GetListFeed(spreadsheet_id, worksheet_id).entry"
     ],
     "language": "python",
     "metadata": {},
     "outputs": [],
     "prompt_number": 137
    },
    {
     "cell_type": "code",
     "collapsed": false,
     "input": [
      "#rows = gd_client.GetListFeed(spreadsheet_id, worksheet_id).entry\n",
      "#g_data_row_names = rows[0].custom\n",
      "#nCols=len(g_data_row_names)\n",
      "#print nCols\n",
      "#print \"\\n\".join(sorted(list(set(g_data_row_names.keys()))))\n",
      "#print set(get_col_name_translator(gd_client,nCols).keys())\n",
      "#print set(get_col_name_translator(gd_client,nCols).items())\n"
     ],
     "language": "python",
     "metadata": {},
     "outputs": [],
     "prompt_number": 138
    },
    {
     "cell_type": "code",
     "collapsed": false,
     "input": [
      "cur_table = tables['SAMPLE']\n",
      "print cur_table"
     ],
     "language": "python",
     "metadata": {},
     "outputs": [
      {
       "output_type": "stream",
       "stream": "stdout",
       "text": [
        "<class 'pandas.core.frame.DataFrame'>\n",
        "Index: 2 entries, GSM151738 to GSM151739\n",
        "Data columns (total 38 columns):\n",
        "NAME                              2  non-null values\n",
        "Sample_channel_count              2  non-null values\n",
        "Sample_characteristics_ch1        2  non-null values\n",
        "Sample_contact_address            2  non-null values\n",
        "Sample_contact_city               2  non-null values\n",
        "Sample_contact_country            2  non-null values\n",
        "Sample_contact_department         2  non-null values\n",
        "Sample_contact_email              2  non-null values\n",
        "Sample_contact_institute          2  non-null values\n",
        "Sample_contact_laboratory         2  non-null values\n",
        "Sample_contact_name               2  non-null values\n",
        "Sample_contact_state              2  non-null values\n",
        "Sample_contact_zip/postal_code    2  non-null values\n",
        "Sample_data_processing            2  non-null values\n",
        "Sample_data_row_count             2  non-null values\n",
        "Sample_description                2  non-null values\n",
        "Sample_extract_protocol_ch1       2  non-null values\n",
        "Sample_geo_accession              2  non-null values\n",
        "Sample_growth_protocol_ch1        2  non-null values\n",
        "Sample_hyb_protocol               2  non-null values\n",
        "Sample_label_ch1                  2  non-null values\n",
        "Sample_label_protocol_ch1         2  non-null values\n",
        "Sample_last_update_date           2  non-null values\n",
        "Sample_molecule_ch1               2  non-null values\n",
        "Sample_organism_ch1               2  non-null values\n",
        "Sample_platform_id                2  non-null values\n",
        "Sample_scan_protocol              2  non-null values\n",
        "Sample_series_id                  2  non-null values\n",
        "Sample_source_name_ch1            2  non-null values\n",
        "Sample_status                     2  non-null values\n",
        "Sample_submission_date            2  non-null values\n",
        "Sample_supplementary_file         2  non-null values\n",
        "Sample_taxid_ch1                  2  non-null values\n",
        "Sample_title                      2  non-null values\n",
        "Sample_treatment_protocol_ch1     2  non-null values\n",
        "Sample_type                       2  non-null values\n",
        "Table                             2  non-null values\n",
        "Table_Columns                     1  non-null values\n",
        "dtypes: object(38)\n"
       ]
      }
     ],
     "prompt_number": 139
    },
    {
     "cell_type": "code",
     "collapsed": false,
     "input": [
      "len(cur_table.columns)"
     ],
     "language": "python",
     "metadata": {},
     "outputs": [
      {
       "metadata": {},
       "output_type": "pyout",
       "prompt_number": 141,
       "text": [
        "38"
       ]
      }
     ],
     "prompt_number": 141
    },
    {
     "cell_type": "code",
     "collapsed": false,
     "input": [
      "translator"
     ],
     "language": "python",
     "metadata": {},
     "outputs": [
      {
       "metadata": {},
       "output_type": "pyout",
       "prompt_number": 157,
       "text": [
        "{'name': 'name',\n",
        " 'sample_channel_count': 'sample_channel_count',\n",
        " 'sample_characteristics_ch1': 'sample_characteristics_ch1',\n",
        " 'sample_contact_address': 'sample_contact_address',\n",
        " 'sample_contact_city': 'sample_contact_city',\n",
        " 'sample_contact_country': 'sample_contact_country',\n",
        " 'sample_contact_department': 'sample_contact_department',\n",
        " 'sample_contact_email': 'sample_contact_email',\n",
        " 'sample_contact_institute': 'sample_contact_institute',\n",
        " 'sample_contact_laboratory': 'sample_contact_laboratory',\n",
        " 'sample_contact_name': 'sample_contact_name',\n",
        " 'sample_contact_state': 'sample_contact_state',\n",
        " 'sample_contact_zip/postal_code': 'sample_contact_zip/postal_code',\n",
        " 'sample_data_processing': 'sample_data_processing',\n",
        " 'sample_data_row_count': 'sample_data_row_count',\n",
        " 'sample_description': 'sample_description',\n",
        " 'sample_extract_protocol_ch1': 'sample_extract_protocol_ch1',\n",
        " 'sample_geo_accession': 'sample_geo_accession',\n",
        " 'sample_growth_protocol_ch1': 'sample_growth_protocol_ch1',\n",
        " 'sample_hyb_protocol': 'sample_hyb_protocol',\n",
        " 'sample_label_ch1': 'sample_label_ch1',\n",
        " 'sample_label_protocol_ch1': 'sample_label_protocol_ch1',\n",
        " 'sample_last_update_date': 'sample_last_update_date',\n",
        " 'sample_molecule_ch1': 'sample_molecule_ch1',\n",
        " 'sample_organism_ch1': 'sample_organism_ch1',\n",
        " 'sample_platform_id': 'sample_platform_id',\n",
        " 'sample_scan_protocol': 'sample_scan_protocol',\n",
        " 'sample_series_id': 'sample_series_id',\n",
        " 'sample_source_name_ch1': 'sample_source_name_ch1',\n",
        " 'sample_status': 'sample_status',\n",
        " 'sample_submission_date': 'sample_submission_date',\n",
        " 'sample_supplementary_file': 'sample_supplementary_file',\n",
        " 'sample_taxid_ch1': 'sample_taxid_ch1',\n",
        " 'sample_title': 'sample_title',\n",
        " 'sample_treatment_protocol_ch1': 'sample_treatment_protocol_ch1',\n",
        " 'sample_type': 'sample_type',\n",
        " 'table': 'table',\n",
        " 'table_columns': 'table_columns'}"
       ]
      }
     ],
     "prompt_number": 157
    },
    {
     "cell_type": "code",
     "collapsed": false,
     "input": [
      "#Change column names to be easier to read \n",
      "translator = get_col_name_translator(cur_table.columns,len(cur_table.columns))\n",
      "len(translator)"
     ],
     "language": "python",
     "metadata": {},
     "outputs": [
      {
       "metadata": {},
       "output_type": "pyout",
       "prompt_number": 142,
       "text": [
        "38"
       ]
      }
     ],
     "prompt_number": 142
    },
    {
     "cell_type": "code",
     "collapsed": false,
     "input": [
      "#Show records, to make sure that we are looking at the right things\n",
      "\n",
      "for row_idx in range(len(cur_table.index)):\n",
      "    print cur_table.index[row_idx]\n",
      "    for col_idx in range(len(cur_table.columns)):\n",
      "        print \"  \" + cur_table.columns[col_idx] + \": \" + str(cur_table.ix[row_idx, col_idx])\n",
      "        \n",
      "        #row_key = cur_table.index[row_idx]\n",
      "        #print \" %s: %s\" % (translator[row_key], cur_table.ix[row_idx,col_idx]) #row.custom[key].text)\n",
      "    print"
     ],
     "language": "python",
     "metadata": {},
     "outputs": [
      {
       "output_type": "stream",
       "stream": "stdout",
       "text": [
        "GSM151738\n",
        "  NAME: GSM151738\n",
        "  Sample_channel_count: 1\n",
        "  Sample_characteristics_ch1: ['Male embryonic stem cell line, passage 29, karyotype: 48,XY,+12,+der(17)del(17)(p12p13.3)hsr(17)(p11.2)', 'Originally human embryonic stem cell line H14 (WiCell Research Institute), H14 BJI maintained at Centre for Stem Cell Biology, University of Sheffield']\n",
        "  Sample_contact_address: Western Bank\n",
        "  Sample_contact_city: Sheffield\n",
        "  Sample_contact_country: United Kingdom\n",
        "  Sample_contact_department: Department of Biomedical Science\n",
        "  Sample_contact_email: Duncan.Baker@sch.nhs.uk\n",
        "  Sample_contact_institute: University of Sheffield\n",
        "  Sample_contact_laboratory: Centre for Stem cell Biology\n",
        "  Sample_contact_name: Duncan,,Baker\n",
        "  Sample_contact_state: S.Yorks\n",
        "  Sample_contact_zip/postal_code: S10 2TN\n",
        "  Sample_data_processing: The data were analyzed with Microarray Suite version 5.0 (MAS 5.0) using Affymetrix default analysis settings and global scaling as normalization method. The trimmed mean target intensity of each array was arbitrarily set to 100.\n",
        "  Sample_data_row_count: 54675\n",
        "  Sample_description: Gene expression data from human embryonic stem cell line H14 BJI with abnormal karyotype, including a homogenous staining region (gene amplification).\n",
        "  Sample_extract_protocol_ch1: Trizol extraction of total RNA was performed according to the manufacturer's instructions.\n",
        "  Sample_geo_accession: GSM151738\n",
        "  Sample_growth_protocol_ch1: Cells had been cultured under standard conditions (37oC in media) prior to RNA extraction.\n",
        "  Sample_hyb_protocol: 15\u00b5g of cRNA molecules were heat fragmented and applied to the Human U133 plus 2 GeneChips in a hybridisation solution according to the Affymetrix protocol. Hybridisation took place overnight in a rotating hybridisation platform at 45oC for 16 hours. Post hybridisation stringency washing was done using the Affymetrix fluidics station again following the protocol outlined in the Affymetrix instructions.\n",
        "  Sample_label_ch1: biotin\n",
        "  Sample_label_protocol_ch1: Biotinylated cRNA were prepared according to the standard Affymetrix protocol from 6 ug total RNA (Expression Analysis Technical Manual, 2001, Affymetrix).\n",
        "  Sample_last_update_date: Dec 20 2006\n",
        "  Sample_molecule_ch1: total RNA\n",
        "  Sample_organism_ch1: Homo sapiens\n",
        "  Sample_platform_id: GPL570\n",
        "  Sample_scan_protocol: The GeneChips were scanned in the Affymetrix GCS3000 scanner and the resultant image processed using the GCOS software package to prepare the .CEL and .CHP files\n",
        "  Sample_series_id: GSE6561\n",
        "  Sample_source_name_ch1: Human embryonic stem cell line H14 (WiCell Research Institute) with abnormal karyotype\n",
        "  Sample_status: Public on Feb 10 2007\n",
        "  Sample_submission_date: Dec 18 2006\n",
        "  Sample_supplementary_file: ftp://ftp.ncbi.nlm.nih.gov/pub/geo/DATA/supplementary/samples/GSM151nnn/GSM151738/GSM151738.CEL.gz\n",
        "  Sample_taxid_ch1: 9606\n",
        "  Sample_title: H14 BJI hsr positive rep 1\n",
        "  Sample_treatment_protocol_ch1: Cells had been cultured under standard conditions (37oC in media) prior to RNA extraction.\n",
        "  Sample_type: RNA\n",
        "  Table: ['<Table import not implemented>']\n",
        "  Table_Columns: nan\n",
        "\n",
        "GSM151739\n",
        "  NAME: GSM151739\n",
        "  Sample_channel_count: 1\n",
        "  Sample_characteristics_ch1: ['Male embryonic stem cell line H14.s3, passage 3, karyotype: 46,XY', 'Originally human embryonic stem cell line H14 (WiCell Research Institute), H14.s3 maintained at Centre for Stem Cell Biology, University of Sheffield']\n",
        "  Sample_contact_address: Western Bank\n",
        "  Sample_contact_city: Sheffield\n",
        "  Sample_contact_country: United Kingdom\n",
        "  Sample_contact_department: Department of Biomedical Science\n",
        "  Sample_contact_email: Duncan.Baker@sch.nhs.uk\n",
        "  Sample_contact_institute: University of Sheffield\n",
        "  Sample_contact_laboratory: Centre for Stem cell Biology\n",
        "  Sample_contact_name: Duncan,,Baker\n",
        "  Sample_contact_state: S.Yorks\n",
        "  Sample_contact_zip/postal_code: S10 2TN\n",
        "  Sample_data_processing: The data were analyzed with Microarray Suite version 5.0 (MAS 5.0) using Affymetrix default analysis settings and global scaling as normalization method. The trimmed mean target intensity of each array was arbitrarily set to 100.\n",
        "  Sample_data_row_count: 54675\n",
        "  Sample_description: Gene expression data from human embryonic stem cell line H14.s3 with normal male karyotype.\n",
        "  Sample_extract_protocol_ch1: Trizol extraction of total RNA was performed according to the manufacturer's instructions.\n",
        "  Sample_geo_accession: GSM151739\n",
        "  Sample_growth_protocol_ch1: Cells had been cultured under standard conditions (37oC in media) prior to RNA extraction.\n",
        "  Sample_hyb_protocol: 15\u00b5g of cRNA molecules were heat fragmented and applied to the Human U133 plus 2 GeneChips in a hybridisation solution according to the Affymetrix protocol. Hybridisation took place overnight in a rotating hybridisation platform at 45oC for 16 hours. Post hybridisation stringency washing was done using the Affymetrix fluidics station again following the protocol outlined in the Affymetrix instructions.\n",
        "  Sample_label_ch1: biotin\n",
        "  Sample_label_protocol_ch1: Biotinylated cRNA were prepared according to the standard Affymetrix protocol from 6 ug total RNA (Expression Analysis Technical Manual, 2001, Affymetrix).\n",
        "  Sample_last_update_date: Dec 20 2006\n",
        "  Sample_molecule_ch1: total RNA\n",
        "  Sample_organism_ch1: Homo sapiens\n",
        "  Sample_platform_id: GPL570\n",
        "  Sample_scan_protocol: The GeneChips were scanned in the Affymetrix GCS3000 scanner and the resultant image processed using the GCOS software package to prepare the .CEL and .CHP files\n",
        "  Sample_series_id: GSE6561\n",
        "  Sample_source_name_ch1: Human embryonic stem cell line H14 (WiCell Research Institute) with normal male karyotype.\n",
        "  Sample_status: Public on Feb 10 2007\n",
        "  Sample_submission_date: Dec 18 2006\n",
        "  Sample_supplementary_file: ftp://ftp.ncbi.nlm.nih.gov/pub/geo/DATA/supplementary/samples/GSM151nnn/GSM151739/GSM151739.CEL.gz\n",
        "  Sample_taxid_ch1: 9606\n",
        "  Sample_title: H14.s3 hsr negative rep 1\n",
        "  Sample_treatment_protocol_ch1: Cells had been cultured under standard conditions (37oC in media) prior to RNA extraction.\n",
        "  Sample_type: RNA\n",
        "  Table: ['<Table import not implemented>']\n",
        "  Table_Columns: [('ID_REF', ''), ('VALUE', 'MAS 5.0'), ('ABS_CALL', 'the call in an absolute analysis that indicates if the transcript was present (P), absent (A), marginal (M), or no call (NC)'), ('DETECTION P-VALUE', \"'detection p-value', p-value that indicates the significance level of the detection call\")]\n",
        "\n"
       ]
      }
     ],
     "prompt_number": 153
    },
    {
     "cell_type": "code",
     "collapsed": false,
     "input": [
      "##### Not working yet beyond this point\n",
      "\n",
      "for row_idx in range(len(cur_table.index)):\n",
      "    sampleName = cur_table.index[row_idx]\n",
      "    record = synapseclient.Folder(name=sampleName, parentId=SYN_ID_METADATA)\n",
      "\n",
      "    for col_idx in range(len(cur_table.columns)):\n",
      "        key = cur_table.columns[col_idx]\n",
      "        if key == ID_FIELD_NAME:\n",
      "            record['decoratedName'] = sampleName\n",
      "        else:\n",
      "            val = str(cur_table.ix[row_idx,col_idx])\n",
      "            \n",
      "            if val is not None:\n",
      "                try:\n",
      "                    val = int(val)\n",
      "                except ValueError:\n",
      "                    try:\n",
      "                        val = float(val)\n",
      "                    except ValueError:\n",
      "                        pass\n",
      "            record[key] = val\n",
      "    print record\n",
      "    syn.store(record)\n",
      "\n",
      "\n",
      "\n",
      "\n",
      "#for row in rows:\n",
      "#    sampleName = row.custom[ID_FIELD_NAME].text\n",
      "#    record = synapseclient.Folder(name=sampleName, parentId=FAKE_RECORDSTORE_ID)\n",
      "#    for key in row.custom:\n",
      "#        if key == GDATA_ID_FIELD_NAME:\n",
      "#            record['decoratedName'] = sampleName\n",
      "#        else:\n",
      "#            val = row.custom[key].text\n",
      "#            #val = None if val=='na' else val\n",
      "#            #val = None if val=='N/A' else val\n",
      "#            #val = None if val=='UNK' else val##\n",
      "#\n",
      "#            if val is not None:\n",
      "#                try:\n",
      "#                    val = int(val)\n",
      "#                except ValueError:\n",
      "#                    try:\n",
      "#                        val = float(val)\n",
      "#                    except ValueError:\n",
      "#                        pass\n",
      "#            record[translator[key]] = val\n",
      "#    print record\n",
      "#    syn.store(record)"
     ],
     "language": "python",
     "metadata": {},
     "outputs": [
      {
       "ename": "SynapseHTTPError",
       "evalue": "400 Client Error: Bad Request\nInvalid annotation name: 'Sample_contact_zip/postal_code'. Annotation names may only contain; letters, numbers, '_' and '.'",
       "output_type": "pyerr",
       "traceback": [
        "\u001b[0;31m---------------------------------------------------------------------------\u001b[0m\n\u001b[0;31mSynapseHTTPError\u001b[0m                          Traceback (most recent call last)",
        "\u001b[0;32m<ipython-input-156-32d49984bb02>\u001b[0m in \u001b[0;36m<module>\u001b[0;34m()\u001b[0m\n\u001b[1;32m     22\u001b[0m             \u001b[0mrecord\u001b[0m\u001b[0;34m[\u001b[0m\u001b[0mkey\u001b[0m\u001b[0;34m]\u001b[0m \u001b[0;34m=\u001b[0m \u001b[0mval\u001b[0m\u001b[0;34m\u001b[0m\u001b[0m\n\u001b[1;32m     23\u001b[0m     \u001b[0;32mprint\u001b[0m \u001b[0mrecord\u001b[0m\u001b[0;34m\u001b[0m\u001b[0m\n\u001b[0;32m---> 24\u001b[0;31m     \u001b[0msyn\u001b[0m\u001b[0;34m.\u001b[0m\u001b[0mstore\u001b[0m\u001b[0;34m(\u001b[0m\u001b[0mrecord\u001b[0m\u001b[0;34m)\u001b[0m\u001b[0;34m\u001b[0m\u001b[0m\n\u001b[0m\u001b[1;32m     25\u001b[0m \u001b[0;34m\u001b[0m\u001b[0m\n\u001b[1;32m     26\u001b[0m \u001b[0;34m\u001b[0m\u001b[0m\n",
        "\u001b[0;32m/usr/local/lib/python2.7/site-packages/synapseclient/client.pyc\u001b[0m in \u001b[0;36mstore\u001b[0;34m(self, obj, **kwargs)\u001b[0m\n\u001b[1;32m    782\u001b[0m         \u001b[0;31m# Update annotations\u001b[0m\u001b[0;34m\u001b[0m\u001b[0;34m\u001b[0m\u001b[0m\n\u001b[1;32m    783\u001b[0m         \u001b[0mannotations\u001b[0m\u001b[0;34m[\u001b[0m\u001b[0;34m'etag'\u001b[0m\u001b[0;34m]\u001b[0m \u001b[0;34m=\u001b[0m \u001b[0mproperties\u001b[0m\u001b[0;34m[\u001b[0m\u001b[0;34m'etag'\u001b[0m\u001b[0;34m]\u001b[0m\u001b[0;34m\u001b[0m\u001b[0m\n\u001b[0;32m--> 784\u001b[0;31m         \u001b[0mannotations\u001b[0m \u001b[0;34m=\u001b[0m \u001b[0mself\u001b[0m\u001b[0;34m.\u001b[0m\u001b[0msetAnnotations\u001b[0m\u001b[0;34m(\u001b[0m\u001b[0mproperties\u001b[0m\u001b[0;34m,\u001b[0m \u001b[0mannotations\u001b[0m\u001b[0;34m)\u001b[0m\u001b[0;34m\u001b[0m\u001b[0m\n\u001b[0m\u001b[1;32m    785\u001b[0m         \u001b[0mproperties\u001b[0m\u001b[0;34m[\u001b[0m\u001b[0;34m'etag'\u001b[0m\u001b[0;34m]\u001b[0m \u001b[0;34m=\u001b[0m \u001b[0mannotations\u001b[0m\u001b[0;34m[\u001b[0m\u001b[0;34m'etag'\u001b[0m\u001b[0;34m]\u001b[0m\u001b[0;34m\u001b[0m\u001b[0m\n\u001b[1;32m    786\u001b[0m \u001b[0;34m\u001b[0m\u001b[0m\n",
        "\u001b[0;32m/usr/local/lib/python2.7/site-packages/synapseclient/client.pyc\u001b[0m in \u001b[0;36msetAnnotations\u001b[0;34m(self, entity, annotations, **kwargs)\u001b[0m\n\u001b[1;32m   1015\u001b[0m             \u001b[0msynapseAnnos\u001b[0m\u001b[0;34m[\u001b[0m\u001b[0;34m'etag'\u001b[0m\u001b[0;34m]\u001b[0m \u001b[0;34m=\u001b[0m \u001b[0mentity\u001b[0m\u001b[0;34m[\u001b[0m\u001b[0;34m'etag'\u001b[0m\u001b[0;34m]\u001b[0m\u001b[0;34m\u001b[0m\u001b[0m\n\u001b[1;32m   1016\u001b[0m \u001b[0;34m\u001b[0m\u001b[0m\n\u001b[0;32m-> 1017\u001b[0;31m         \u001b[0;32mreturn\u001b[0m \u001b[0mfrom_synapse_annotations\u001b[0m\u001b[0;34m(\u001b[0m\u001b[0mself\u001b[0m\u001b[0;34m.\u001b[0m\u001b[0mrestPUT\u001b[0m\u001b[0;34m(\u001b[0m\u001b[0muri\u001b[0m\u001b[0;34m,\u001b[0m \u001b[0mbody\u001b[0m\u001b[0;34m=\u001b[0m\u001b[0mjson\u001b[0m\u001b[0;34m.\u001b[0m\u001b[0mdumps\u001b[0m\u001b[0;34m(\u001b[0m\u001b[0msynapseAnnos\u001b[0m\u001b[0;34m)\u001b[0m\u001b[0;34m)\u001b[0m\u001b[0;34m)\u001b[0m\u001b[0;34m\u001b[0m\u001b[0m\n\u001b[0m\u001b[1;32m   1018\u001b[0m \u001b[0;34m\u001b[0m\u001b[0m\n\u001b[1;32m   1019\u001b[0m \u001b[0;34m\u001b[0m\u001b[0m\n",
        "\u001b[0;32m/usr/local/lib/python2.7/site-packages/synapseclient/client.pyc\u001b[0m in \u001b[0;36mrestPUT\u001b[0;34m(self, uri, body, endpoint, headers, retryPolicy, **kwargs)\u001b[0m\n\u001b[1;32m   2342\u001b[0m \u001b[0;34m\u001b[0m\u001b[0m\n\u001b[1;32m   2343\u001b[0m         \u001b[0mresponse\u001b[0m \u001b[0;34m=\u001b[0m \u001b[0m_with_retry\u001b[0m\u001b[0;34m(\u001b[0m\u001b[0;32mlambda\u001b[0m\u001b[0;34m:\u001b[0m \u001b[0mrequests\u001b[0m\u001b[0;34m.\u001b[0m\u001b[0mput\u001b[0m\u001b[0;34m(\u001b[0m\u001b[0muri\u001b[0m\u001b[0;34m,\u001b[0m \u001b[0mdata\u001b[0m\u001b[0;34m=\u001b[0m\u001b[0mbody\u001b[0m\u001b[0;34m,\u001b[0m \u001b[0mheaders\u001b[0m\u001b[0;34m=\u001b[0m\u001b[0mheaders\u001b[0m\u001b[0;34m,\u001b[0m \u001b[0;34m**\u001b[0m\u001b[0mkwargs\u001b[0m\u001b[0;34m)\u001b[0m\u001b[0;34m,\u001b[0m \u001b[0;34m**\u001b[0m\u001b[0mretryPolicy\u001b[0m\u001b[0;34m)\u001b[0m\u001b[0;34m\u001b[0m\u001b[0m\n\u001b[0;32m-> 2344\u001b[0;31m         \u001b[0mexceptions\u001b[0m\u001b[0;34m.\u001b[0m\u001b[0m_raise_for_status\u001b[0m\u001b[0;34m(\u001b[0m\u001b[0mresponse\u001b[0m\u001b[0;34m,\u001b[0m \u001b[0mverbose\u001b[0m\u001b[0;34m=\u001b[0m\u001b[0mself\u001b[0m\u001b[0;34m.\u001b[0m\u001b[0mdebug\u001b[0m\u001b[0;34m)\u001b[0m\u001b[0;34m\u001b[0m\u001b[0m\n\u001b[0m\u001b[1;32m   2345\u001b[0m         \u001b[0;32mreturn\u001b[0m \u001b[0mself\u001b[0m\u001b[0;34m.\u001b[0m\u001b[0m_return_rest_body\u001b[0m\u001b[0;34m(\u001b[0m\u001b[0mresponse\u001b[0m\u001b[0;34m)\u001b[0m\u001b[0;34m\u001b[0m\u001b[0m\n\u001b[1;32m   2346\u001b[0m \u001b[0;34m\u001b[0m\u001b[0m\n",
        "\u001b[0;32m/usr/local/lib/python2.7/site-packages/synapseclient/exceptions.pyc\u001b[0m in \u001b[0;36m_raise_for_status\u001b[0;34m(response, verbose)\u001b[0m\n\u001b[1;32m    114\u001b[0m             \u001b[0;32mexcept\u001b[0m\u001b[0;34m:\u001b[0m \u001b[0mmessage\u001b[0m \u001b[0;34m+=\u001b[0m \u001b[0;34m\"\\nCould not append all response info\"\u001b[0m\u001b[0;34m\u001b[0m\u001b[0m\n\u001b[1;32m    115\u001b[0m \u001b[0;34m\u001b[0m\u001b[0m\n\u001b[0;32m--> 116\u001b[0;31m         \u001b[0;32mraise\u001b[0m \u001b[0mSynapseHTTPError\u001b[0m\u001b[0;34m(\u001b[0m\u001b[0mmessage\u001b[0m\u001b[0;34m,\u001b[0m \u001b[0mresponse\u001b[0m\u001b[0;34m=\u001b[0m\u001b[0mresponse\u001b[0m\u001b[0;34m)\u001b[0m\u001b[0;34m\u001b[0m\u001b[0m\n\u001b[0m\u001b[1;32m    117\u001b[0m \u001b[0;34m\u001b[0m\u001b[0m\n",
        "\u001b[0;31mSynapseHTTPError\u001b[0m: 400 Client Error: Bad Request\nInvalid annotation name: 'Sample_contact_zip/postal_code'. Annotation names may only contain; letters, numbers, '_' and '.'"
       ]
      },
      {
       "output_type": "stream",
       "stream": "stdout",
       "text": [
        "Folder: GSM151738 (-)\n",
        "properties:\n",
        "  concreteType=org.sagebionetworks.repo.model.Folder\n",
        "  name=GSM151738\n",
        "  parentId=syn2425686\n",
        "annotations:\n",
        "  Sample_channel_count=1\n",
        "  Sample_characteristics_ch1=['Male embryonic stem cell line, passage 29, karyotype: 48,XY,+12,+der(17)del(17)(p12p13.3)hsr(17)(p11.2)', 'Originally human embryonic stem cell line H14 (WiCell Research Institute), H14 BJI maintained at Centre for Stem Cell Biology, University of Sheffield']\n",
        "  Sample_contact_address=Western Bank\n",
        "  Sample_contact_city=Sheffield\n",
        "  Sample_contact_country=United Kingdom\n",
        "  Sample_contact_department=Department of Biomedical Science\n",
        "  Sample_contact_email=Duncan.Baker@sch.nhs.uk\n",
        "  Sample_contact_institute=University of Sheffield\n",
        "  Sample_contact_laboratory=Centre for Stem cell Biology\n",
        "  Sample_contact_name=Duncan,,Baker\n",
        "  Sample_contact_state=S.Yorks\n",
        "  Sample_contact_zip/postal_code=S10 2TN\n",
        "  Sample_data_processing=The data were analyzed with Microarray Suite version 5.0 (MAS 5.0) using Affymetrix default analysis settings and global scaling as normalization method. The trimmed mean target intensity of each array was arbitrarily set to 100.\n",
        "  Sample_data_row_count=54675\n",
        "  Sample_description=Gene expression data from human embryonic stem cell line H14 BJI with abnormal karyotype, including a homogenous staining region (gene amplification).\n",
        "  Sample_extract_protocol_ch1=Trizol extraction of total RNA was performed according to the manufacturer's instructions.\n",
        "  Sample_geo_accession=GSM151738\n",
        "  Sample_growth_protocol_ch1=Cells had been cultured under standard conditions (37oC in media) prior to RNA extraction.\n",
        "  Sample_hyb_protocol=15\u00b5g of cRNA molecules were heat fragmented and applied to the Human U133 plus 2 GeneChips in a hybridisation solution according to the Affymetrix protocol. Hybridisation took place overnight in a rotating hybridisation platform at 45oC for 16 hours. Post hybridisation stringency washing was done using the Affymetrix fluidics station again following the protocol outlined in the Affymetrix instructions.\n",
        "  Sample_label_ch1=biotin\n",
        "  Sample_label_protocol_ch1=Biotinylated cRNA were prepared according to the standard Affymetrix protocol from 6 ug total RNA (Expression Analysis Technical Manual, 2001, Affymetrix).\n",
        "  Sample_last_update_date=Dec 20 2006\n",
        "  Sample_molecule_ch1=total RNA\n",
        "  Sample_organism_ch1=Homo sapiens\n",
        "  Sample_platform_id=GPL570\n",
        "  Sample_scan_protocol=The GeneChips were scanned in the Affymetrix GCS3000 scanner and the resultant image processed using the GCOS software package to prepare the .CEL and .CHP files\n",
        "  Sample_series_id=GSE6561\n",
        "  Sample_source_name_ch1=Human embryonic stem cell line H14 (WiCell Research Institute) with abnormal karyotype\n",
        "  Sample_status=Public on Feb 10 2007\n",
        "  Sample_submission_date=Dec 18 2006\n",
        "  Sample_supplementary_file=ftp://ftp.ncbi.nlm.nih.gov/pub/geo/DATA/supplementary/samples/GSM151nnn/GSM151738/GSM151738.CEL.gz\n",
        "  Sample_taxid_ch1=9606\n",
        "  Sample_title=H14 BJI hsr positive rep 1\n",
        "  Sample_treatment_protocol_ch1=Cells had been cultured under standard conditions (37oC in media) prior to RNA extraction.\n",
        "  Sample_type=RNA\n",
        "  Table=['<Table import not implemented>']\n",
        "  Table_Columns=nan\n",
        "  decoratedName=GSM151738\n",
        "\n"
       ]
      }
     ],
     "prompt_number": 156
    },
    {
     "cell_type": "code",
     "collapsed": false,
     "input": [],
     "language": "python",
     "metadata": {},
     "outputs": []
    }
   ],
   "metadata": {}
  }
 ]
}