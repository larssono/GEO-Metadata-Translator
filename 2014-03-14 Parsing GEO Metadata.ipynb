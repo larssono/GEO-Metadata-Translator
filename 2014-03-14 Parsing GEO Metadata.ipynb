{
 "metadata": {
  "name": ""
 },
 "nbformat": 3,
 "nbformat_minor": 0,
 "worksheets": [
  {
   "cells": [
    {
     "cell_type": "code",
     "collapsed": false,
     "input": [
      "import numpy as np\n",
      "import pandas as pd\n",
      "import pylab\n",
      "import os\n",
      "\n",
      "METADATA_FILE_NAME = os.path.normpath(\"C:/Users/Shane.WIN-6T7VSM1/Desktop/TEST_File_for_testing_parsing.soft\")\n"
     ],
     "language": "python",
     "metadata": {},
     "outputs": [],
     "prompt_number": 1
    },
    {
     "cell_type": "code",
     "collapsed": false,
     "input": [
      "#Testing support functions\n",
      "\n",
      "def create_test_structures(lines):\n",
      "    if lines>=1: #DATABASE entity\n",
      "        sim_file =            \"^DATABASE = GeoMiame\"\n",
      "        expected_structure = {'DATABASE':{'GeoMiame':{'NAME':'GeoMiame'}}}\n",
      "    if lines>=2: #Variable within DATABASE\n",
      "        sim_file += chr(13) + \"!Database_name = Gene Expression Omnibus (GEO)\"\n",
      "        expected_structure['DATABASE']['GeoMiame']['Database_name']='Gene Expression Omnibus (GEO)'\n",
      "    if lines>=3: #SERIES entity\n",
      "        sim_file += chr(13) + \"^SERIES = GSE6561\"\n",
      "        expected_structure['SERIES']={'GSE6561':{'NAME':'GSE6561'}}\n",
      "    if lines>=4: #SERIES variable\n",
      "        sim_file += chr(13) + \"!Series_status = Public on Feb 10 2007\"\n",
      "        expected_structure['SERIES']['GSE6561']['Series_status']=\"Public on Feb 10 2007\"\n",
      "    if lines>=5: #SERIES variable (another)\n",
      "        sim_file += chr(13) + \"!Series_submission_date = Dec 18 2006 \"\n",
      "        expected_structure['SERIES']['GSE6561']['Series_submission_date']=\"Dec 18 2006\"\n",
      "    if lines>=6: #SERIES repeated variable (1st time)\n",
      "        sim_file += chr(13) + \"!Series_contributor = Peter,,Andrews\"\n",
      "        expected_structure['SERIES']['GSE6561']['Series_contributor']=\"Peter,,Andrews\"\n",
      "    if lines>=7: #SERIES repated variable (2nd time)\n",
      "        sim_file += chr(13) + \"!Series_contributor = Duncan,,Baker\"\n",
      "        expected_structure['SERIES']['GSE6561']['Series_contributor']=[\"Peter,,Andrews\",\n",
      "                                                                       \"Duncan,,Baker\"]\n",
      "    if lines>=8: #SERIES repated variable (3rd time)\n",
      "        sim_file += chr(13) + \"!Series_contributor = Neil,,Harrison\"\n",
      "        expected_structure['SERIES']['GSE6561']['Series_contributor']=[\"Peter,,Andrews\",\n",
      "                                                                       \"Duncan,,Baker\",\n",
      "                                                                       \"Neil,,Harrison\"]\n",
      "    if lines>=9: #PLATFORM\n",
      "        sim_file += chr(13) + \"^PLATFORM = GPL570\"\n",
      "        expected_structure['PLATFORM']={'GPL570':{'NAME':'GPL570'}}\n",
      "    if lines>=10: #Beginning of table definition: First column definition\n",
      "        sim_file += chr(13) + \"#ID = Affymetrix Probe Set\"\n",
      "        expected_structure['PLATFORM']['GPL570']['Table_Columns']=[(\"ID\",\"Affymetrix Probe Set\")]\n",
      "    if lines>=11: #2nd column name of table\n",
      "        sim_file += chr(13) + \"#GB_ACC = GenBank Accession Number\"\n",
      "        expected_structure['PLATFORM']['GPL570']['Table_Columns']=[(\"ID\",\"Affymetrix Probe Set\"),\n",
      "                                                                   (\"GB_ACC\",\"GenBank Accession Number\")]\n",
      "    if lines>=12: #Start of platform table\n",
      "        sim_file += chr(13) + \"!platform_table_begin\"\n",
      "        expected_structure['PLATFORM']['GPL570']['Table']=[\"<Table import not implemented>\"]\n",
      "    if lines>=13: #Start of platform table: column names\n",
      "        sim_file += chr(13) + \"ID\" + chr(9) + \"GB_ACC\"\n",
      "        #no change to structure\n",
      "    if lines>=14: #Start of platform table: values in a able\n",
      "        sim_file += chr(13) + \"xx\" + chr(9) + \"aaa\"\n",
      "        #no change to structure\n",
      "    if lines>=15: #End of table\n",
      "        sim_file += chr(13) + \"!platform_table_end\"\n",
      "        #no change to structure\n",
      "    if lines>=16: #SAMPLE\n",
      "        sim_file += chr(13) + \"^SAMPLE = GSM151738\"\n",
      "        expected_structure['SAMPLE']={'GSM151738':{'NAME':'GSM151738'}}\n",
      "    if lines>=17: #Sample table start\n",
      "        sim_file += chr(13) + \"!sample_table_begin\"\n",
      "        expected_structure['SAMPLE']['GSM151738']['Table']=[\"<Table import not implemented>\"]\n",
      "    if lines>=18: #Sample table: Column lables\n",
      "        sim_file += chr(13) + \"ID_REF\" + chr(9) + \"VALUE\" + chr(9) + \"ABS_CALL\" + chr(9) + \"DETECTION P-VALUE\"\n",
      "        #no change to structure\n",
      "    if lines>=19: #Sample table: line of data\n",
      "        sim_file += chr(13) + \"AFFX-BioB-5_at\" + chr(9) + \"1276.2\" + chr(9) + \"P\" + chr(9) + \"0.000297\"\n",
      "        #no change to structure\n",
      "    if lines>=20: #Sample table: end of table\n",
      "        sim_file += chr(13) + \"!sample_table_end\"\n",
      "        #no change to structure\n",
      "    if lines>=21: #SAMPLE #2\n",
      "        sim_file += chr(13) + \"^SAMPLE = GSM151739\"\n",
      "        expected_structure['SAMPLE']={'GSM151739':{'NAME':'GSM151739'}}\n",
      "    if lines>=22: #Blank line\n",
      "        sim_file += chr(13)+chr(13) \n",
      "        #No change to structure\n",
      "       \n",
      "    return sim_file, expected_structure\n"
     ],
     "language": "python",
     "metadata": {},
     "outputs": [],
     "prompt_number": 2
    },
    {
     "cell_type": "code",
     "collapsed": false,
     "input": [
      "def identify_prefix(line,char):\n",
      "    before,middle,after=line.partition(char)\n",
      "    if middle==char:\n",
      "        before,middle,after = after.partition(\"=\")\n",
      "        before=before.strip()\n",
      "        after=after.strip()\n",
      "        return True,before,after\n",
      "    else:\n",
      "        return False,\"\",\"\"\n",
      "\n",
      "def parse_line(line,is_in_table):\n",
      "    if is_in_table:\n",
      "        b,s,a = line.partition(\"!\") #Looking for !xxxx_table_end\n",
      "        b,s,a = a.partition(\"_\")\n",
      "        if a==\"table_end\": \n",
      "            return 5,line,\"\"\n",
      "        else: return 4,line,\"\"\n",
      "    found,before,after=identify_prefix(line,\"^\")\n",
      "    if found: return 1,before,after\n",
      "    found,before,after=identify_prefix(line,\"!\")\n",
      "    if found: \n",
      "        b,s,a = before.partition(\"_\")\n",
      "        if a==\"table_begin\":\n",
      "            return 4,before,after\n",
      "        else:\n",
      "            return 2,before,after\n",
      "    found,before,after=identify_prefix(line,\"#\")\n",
      "    if found: return 3,before,after\n",
      "    else: print \"Unable to parse: '\" + line + \"'\"\n",
      "\n",
      "def parse_stream(stream):\n",
      "    #temp_objects=[{},{},{}]\n",
      "    top_obj={}\n",
      "    level=0\n",
      "    var_name=\"\"\n",
      "    is_in_table=False\n",
      "    stream_by_line=stream.splitlines()\n",
      "    objects={}\n",
      "    for line in stream_by_line:\n",
      "        if line != \"\":\n",
      "            prev_level, prev_var_name = (level, var_name)\n",
      "            level,var_name,var_value=parse_line(line,is_in_table)\n",
      "            if level==1: #^\n",
      "                cur_obj={\"NAME\":var_value}\n",
      "                par_obj={var_value:cur_obj}\n",
      "                top_obj[var_name]=par_obj\n",
      "            if level==2: #!\n",
      "                if (prev_level, prev_var_name)==(level,var_name):\n",
      "                    cur_lst.append(var_value)\n",
      "                    cur_obj[var_name]=cur_lst\n",
      "                else:\n",
      "                    cur_obj[var_name]=var_value\n",
      "                    cur_lst=[var_value]\n",
      "            if level==3: ##\n",
      "                if prev_level != level:\n",
      "                    cur_lst=[]\n",
      "                cur_lst.append((var_name,var_value))\n",
      "                cur_obj[\"Table_Columns\"]=cur_lst\n",
      "            if level==4: #Table\n",
      "                cur_obj[\"Table\"]=[\"<Table import not implemented>\"]\n",
      "                is_in_table=True\n",
      "            if level==5: #End of table\n",
      "                is_in_table=False\n",
      "    \n",
      "    return top_obj"
     ],
     "language": "python",
     "metadata": {},
     "outputs": [],
     "prompt_number": 3
    },
    {
     "cell_type": "code",
     "collapsed": false,
     "input": [
      "#TEST DATABASE line\n",
      "#Example: ^DATABASE = GeoMiame \n",
      "sim_file, exp_result = create_test_structures(1)\n",
      "\n",
      "result = parse_stream(sim_file)\n",
      "print result==exp_result\n",
      "print result\n",
      "print exp_result"
     ],
     "language": "python",
     "metadata": {},
     "outputs": [
      {
       "output_type": "stream",
       "stream": "stdout",
       "text": [
        "True\n",
        "{'DATABASE': {'GeoMiame': {'NAME': 'GeoMiame'}}}\n",
        "{'DATABASE': {'GeoMiame': {'NAME': 'GeoMiame'}}}\n"
       ]
      }
     ],
     "prompt_number": 4
    },
    {
     "cell_type": "code",
     "collapsed": false,
     "input": [
      "#TEST variable \n",
      "#Example: !Database_name = Gene Expression Omnibus (GEO) \n",
      "sim_file, exp_result = create_test_structures(2)\n",
      "\n",
      "result = parse_stream(sim_file)\n",
      "print result==exp_result"
     ],
     "language": "python",
     "metadata": {},
     "outputs": [
      {
       "output_type": "stream",
       "stream": "stdout",
       "text": [
        "True\n"
       ]
      }
     ],
     "prompt_number": 5
    },
    {
     "cell_type": "code",
     "collapsed": false,
     "input": [
      "#TEST SERIES line \n",
      "#Example: ^SERIES = GSE6561\n",
      "sim_file, exp_result = create_test_structures(3)\n",
      "\n",
      "result = parse_stream(sim_file)\n",
      "print result==exp_result"
     ],
     "language": "python",
     "metadata": {},
     "outputs": [
      {
       "output_type": "stream",
       "stream": "stdout",
       "text": [
        "True\n"
       ]
      }
     ],
     "prompt_number": 6
    },
    {
     "cell_type": "code",
     "collapsed": false,
     "input": [
      "#TEST SERIES variable\n",
      "#Example: !Series_status = Public on Feb 10 2007 \n",
      "sim_file, exp_result = create_test_structures(4)\n",
      "\n",
      "result = parse_stream(sim_file)\n",
      "print result==exp_result"
     ],
     "language": "python",
     "metadata": {},
     "outputs": [
      {
       "output_type": "stream",
       "stream": "stdout",
       "text": [
        "True\n"
       ]
      }
     ],
     "prompt_number": 7
    },
    {
     "cell_type": "code",
     "collapsed": false,
     "input": [
      "#TEST SERIES variable (2nd one)\n",
      "#Example: !Series_submission_date = Dec 18 2006 \n",
      "sim_file, exp_result = create_test_structures(5)\n",
      "\n",
      "result = parse_stream(sim_file)\n",
      "print result==exp_result"
     ],
     "language": "python",
     "metadata": {},
     "outputs": [
      {
       "output_type": "stream",
       "stream": "stdout",
       "text": [
        "True\n"
       ]
      }
     ],
     "prompt_number": 8
    },
    {
     "cell_type": "code",
     "collapsed": false,
     "input": [
      "#TEST SERIES repeated variable (first two)\n",
      "#Example: !Series_contributor = Peter,,Andrews\n",
      "#         !Series_contributor = Duncan,,Baker \n",
      "sim_file, exp_result = create_test_structures(7)\n",
      "\n",
      "result = parse_stream(sim_file)\n",
      "print result==exp_result"
     ],
     "language": "python",
     "metadata": {},
     "outputs": [
      {
       "output_type": "stream",
       "stream": "stdout",
       "text": [
        "True\n"
       ]
      }
     ],
     "prompt_number": 9
    },
    {
     "cell_type": "code",
     "collapsed": false,
     "input": [
      "#TEST SERIES repeated variable (three)\n",
      "#Example: !Series_contributor = Peter,,Andrews\n",
      "#         !Series_contributor = Duncan,,Baker \n",
      "#         !Series_contributor = Neil,,Harrison \n",
      "sim_file, exp_result = create_test_structures(8)\n",
      "\n",
      "result = parse_stream(sim_file)\n",
      "print result==exp_result"
     ],
     "language": "python",
     "metadata": {},
     "outputs": [
      {
       "output_type": "stream",
       "stream": "stdout",
       "text": [
        "True\n"
       ]
      }
     ],
     "prompt_number": 10
    },
    {
     "cell_type": "code",
     "collapsed": false,
     "input": [
      "#TEST PLATFORM\n",
      "#Example: ^PLATFORM = GPL570 \n",
      "\n",
      "sim_file, exp_result = create_test_structures(9)\n",
      "\n",
      "result = parse_stream(sim_file)\n",
      "print result==exp_result"
     ],
     "language": "python",
     "metadata": {},
     "outputs": [
      {
       "output_type": "stream",
       "stream": "stdout",
       "text": [
        "True\n"
       ]
      }
     ],
     "prompt_number": 11
    },
    {
     "cell_type": "code",
     "collapsed": false,
     "input": [
      "#TEST First column definition of Platform table\n",
      "#Example: #ID = Affymetrix Probe Set\n",
      "\n",
      "sim_file, exp_result = create_test_structures(10)\n",
      "\n",
      "result = parse_stream(sim_file)\n",
      "print result==exp_result"
     ],
     "language": "python",
     "metadata": {},
     "outputs": [
      {
       "output_type": "stream",
       "stream": "stdout",
       "text": [
        "True\n"
       ]
      }
     ],
     "prompt_number": 12
    },
    {
     "cell_type": "code",
     "collapsed": false,
     "input": [
      "#TEST First column definition of Platform table\n",
      "#Example: #GB_ACC = GenBank Accession Number \n",
      "\n",
      "sim_file, exp_result = create_test_structures(11)\n",
      "\n",
      "result = parse_stream(sim_file)\n",
      "print result==exp_result"
     ],
     "language": "python",
     "metadata": {},
     "outputs": [
      {
       "output_type": "stream",
       "stream": "stdout",
       "text": [
        "True\n"
       ]
      }
     ],
     "prompt_number": 13
    },
    {
     "cell_type": "code",
     "collapsed": false,
     "input": [
      "#TEST Start table\n",
      "#Example: !platform_table_begin \n",
      "\n",
      "sim_file, exp_result = create_test_structures(12)\n",
      "\n",
      "result = parse_stream(sim_file)\n",
      "print result==exp_result"
     ],
     "language": "python",
     "metadata": {},
     "outputs": [
      {
       "output_type": "stream",
       "stream": "stdout",
       "text": [
        "True\n"
       ]
      }
     ],
     "prompt_number": 14
    },
    {
     "cell_type": "code",
     "collapsed": false,
     "input": [
      "#TEST Table: column labels\n",
      "#Example: ID\tGB_ACC\n",
      "\n",
      "sim_file, exp_result = create_test_structures(13)\n",
      "\n",
      "result = parse_stream(sim_file)\n",
      "print result==exp_result"
     ],
     "language": "python",
     "metadata": {},
     "outputs": [
      {
       "output_type": "stream",
       "stream": "stdout",
       "text": [
        "True\n"
       ]
      }
     ],
     "prompt_number": 15
    },
    {
     "cell_type": "code",
     "collapsed": false,
     "input": [
      "#TEST Table: line of data\n",
      "#Example: 1007_s_at\tU48705\n",
      "\n",
      "sim_file, exp_result = create_test_structures(14)\n",
      "\n",
      "result = parse_stream(sim_file)\n",
      "print result==exp_result"
     ],
     "language": "python",
     "metadata": {},
     "outputs": [
      {
       "output_type": "stream",
       "stream": "stdout",
       "text": [
        "True\n"
       ]
      }
     ],
     "prompt_number": 16
    },
    {
     "cell_type": "code",
     "collapsed": false,
     "input": [
      "#TEST Table: end of table\n",
      "#Example: !platform_table_end \n",
      "\n",
      "sim_file, exp_result = create_test_structures(15)\n",
      "\n",
      "result = parse_stream(sim_file)\n",
      "print result==exp_result"
     ],
     "language": "python",
     "metadata": {},
     "outputs": [
      {
       "output_type": "stream",
       "stream": "stdout",
       "text": [
        "True\n"
       ]
      }
     ],
     "prompt_number": 17
    },
    {
     "cell_type": "code",
     "collapsed": false,
     "input": [
      "#TEST Table: SAMPLE\n",
      "#Example: ^SAMPLE = GSM151738\n",
      "\n",
      "sim_file, exp_result = create_test_structures(16)\n",
      "\n",
      "result = parse_stream(sim_file)\n",
      "print result==exp_result"
     ],
     "language": "python",
     "metadata": {},
     "outputs": [
      {
       "output_type": "stream",
       "stream": "stdout",
       "text": [
        "True\n"
       ]
      }
     ],
     "prompt_number": 18
    },
    {
     "cell_type": "code",
     "collapsed": false,
     "input": [
      "#TEST Sample Table: start of table\n",
      "#Example: !sample_table_begin \n",
      "\n",
      "sim_file, exp_result = create_test_structures(17)\n",
      "\n",
      "result = parse_stream(sim_file)\n",
      "print result==exp_result"
     ],
     "language": "python",
     "metadata": {},
     "outputs": [
      {
       "output_type": "stream",
       "stream": "stdout",
       "text": [
        "True\n"
       ]
      }
     ],
     "prompt_number": 19
    },
    {
     "cell_type": "code",
     "collapsed": false,
     "input": [
      "#TEST Sample Table: whole table, start next sample\n",
      "#Example: ID_REF\t        VALUE\tABS_CALL\tDETECTION P-VALUE\n",
      "#         AFFX-BioB-5_at\t21276.2\tP       \t0.000297 \n",
      "#         !sample_table_end \n",
      "#         ^SAMPLE = GSM151739\n",
      "\n",
      "sim_file, exp_result = create_test_structures(21)\n",
      "\n",
      "result = parse_stream(sim_file)\n",
      "print result==exp_result"
     ],
     "language": "python",
     "metadata": {},
     "outputs": [
      {
       "output_type": "stream",
       "stream": "stdout",
       "text": [
        "True\n"
       ]
      }
     ],
     "prompt_number": 20
    },
    {
     "cell_type": "code",
     "collapsed": false,
     "input": [
      "#TEST Robust to blank line\n",
      "#Example: \n",
      "\n",
      "sim_file, exp_result = create_test_structures(22)\n",
      "\n",
      "result = parse_stream(sim_file)\n",
      "print result==exp_result"
     ],
     "language": "python",
     "metadata": {},
     "outputs": [
      {
       "output_type": "stream",
       "stream": "stdout",
       "text": [
        "True\n"
       ]
      }
     ],
     "prompt_number": 21
    },
    {
     "cell_type": "code",
     "collapsed": false,
     "input": [
      "print result\n",
      "print exp_result"
     ],
     "language": "python",
     "metadata": {},
     "outputs": [
      {
       "output_type": "stream",
       "stream": "stdout",
       "text": [
        "{'SAMPLE': {'GSM151739': {'NAME': 'GSM151739'}}, 'SERIES': {'GSE6561': {'Series_submission_date': 'Dec 18 2006', 'NAME': 'GSE6561', 'Series_contributor': ['Peter,,Andrews', 'Duncan,,Baker', 'Neil,,Harrison'], 'Series_status': 'Public on Feb 10 2007'}}, 'PLATFORM': {'GPL570': {'Table': ['<Table import not implemented>'], 'NAME': 'GPL570', 'Table_Columns': [('ID', 'Affymetrix Probe Set'), ('GB_ACC', 'GenBank Accession Number')]}}, 'DATABASE': {'GeoMiame': {'Database_name': 'Gene Expression Omnibus (GEO)', 'NAME': 'GeoMiame'}}}\n",
        "{'SAMPLE': {'GSM151739': {'NAME': 'GSM151739'}}, 'SERIES': {'GSE6561': {'Series_submission_date': 'Dec 18 2006', 'NAME': 'GSE6561', 'Series_contributor': ['Peter,,Andrews', 'Duncan,,Baker', 'Neil,,Harrison'], 'Series_status': 'Public on Feb 10 2007'}}, 'PLATFORM': {'GPL570': {'Table': ['<Table import not implemented>'], 'NAME': 'GPL570', 'Table_Columns': [('ID', 'Affymetrix Probe Set'), ('GB_ACC', 'GenBank Accession Number')]}}, 'DATABASE': {'GeoMiame': {'Database_name': 'Gene Expression Omnibus (GEO)', 'NAME': 'GeoMiame'}}}\n"
       ]
      }
     ],
     "prompt_number": 22
    },
    {
     "cell_type": "heading",
     "level": 1,
     "metadata": {},
     "source": [
      "Parsing file"
     ]
    },
    {
     "cell_type": "code",
     "collapsed": false,
     "input": [
      "f = open(METADATA_FILE_NAME,\"r\")\n",
      "whole_file = f.read()\n",
      "result = parse_stream(whole_file)\n",
      "result"
     ],
     "language": "python",
     "metadata": {},
     "outputs": [
      {
       "metadata": {},
       "output_type": "pyout",
       "prompt_number": 23,
       "text": [
        "{'DATABASE': {'GeoMiame': {'Database_email': 'geo@ncbi.nlm.nih.gov',\n",
        "   'Database_institute': 'NCBI NLM NIH',\n",
        "   'Database_name': 'Gene Expression Omnibus (GEO)',\n",
        "   'Database_web_link': 'http://www.ncbi.nlm.nih.gov/geo',\n",
        "   'NAME': 'GeoMiame'}},\n",
        " 'PLATFORM': {'GPL570': {'NAME': 'GPL570',\n",
        "   'Platform_contact_address': '',\n",
        "   'Platform_contact_city': 'Santa Clara',\n",
        "   'Platform_contact_country': 'USA',\n",
        "   'Platform_contact_email': 'geo@ncbi.nlm.nih.gov, support@affymetrix.com',\n",
        "   'Platform_contact_institute': 'Affymetrix, Inc.',\n",
        "   'Platform_contact_name': ',,Affymetrix, Inc.',\n",
        "   'Platform_contact_phone': '888-362-2447',\n",
        "   'Platform_contact_state': 'CA',\n",
        "   'Platform_contact_web_link': 'http://www.affymetrix.com/index.affx',\n",
        "   'Platform_contact_zip/postal_code': '95051',\n",
        "   'Platform_data_row_count': '54675',\n",
        "   'Platform_description': ['Affymetrix submissions are typically submitted to GEO using the GEOarchive method described at http://www.ncbi.nlm.nih.gov/projects/geo/info/geo_affy.html',\n",
        "    '',\n",
        "    'June 03, 2009: annotation table updated with netaffx build 28',\n",
        "    'June 06, 2012: annotation table updated with netaffx build 32'],\n",
        "   'Platform_distribution': 'commercial',\n",
        "   'Platform_geo_accession': 'GPL570',\n",
        "   'Platform_last_update_date': 'Feb 21 2014',\n",
        "   'Platform_manufacture_protocol': [\"see manufacturer's web site\",\n",
        "    '',\n",
        "    'Complete coverage of the Human Genome U133 Set plus 6,500 additional genes for analysis of over 47,000 transcripts',\n",
        "    'All probe sets represented on the GeneChip Human Genome U133 Set are identically replicated on the GeneChip Human Genome U133 Plus 2.0 Array. The sequences from which these probe sets were derived were selected from GenBank\\xc2\\xae, dbEST, and RefSeq. The sequence clusters were created from the UniGene database (Build 133, April 20, 2001) and then refined by analysis and comparison with a number of other publicly available databases, including the Washington University EST trace repository and the University of California, Santa Cruz Golden-Path human genome database (April 2001 release).',\n",
        "    'In addition, there are 9,921 new probe sets representing approximately 6,500 new genes. These gene sequences were selected from GenBank, dbEST, and RefSeq. Sequence clusters were created from the UniGene database (Build 159, January 25, 2003) and refined by analysis and comparison with a number of other publicly available databases, including the Washington University EST trace repository and the NCBI human genome assembly (Build 31).',\n",
        "    ''],\n",
        "   'Platform_manufacturer': 'Affymetrix',\n",
        "   'Platform_organism': 'Homo sapiens',\n",
        "   'Platform_relation': ['Alternative to: GPL4454 (Alternative CDF)',\n",
        "    'Alternative to: GPL4866 (Alternative CDF)',\n",
        "    'Alternative to: GPL5760 (Alternative CDF)',\n",
        "    'Alternative to: GPL6671 (Alternative CDF)',\n",
        "    'Alternative to: GPL6791 (Alternative CDF)',\n",
        "    'Alternative to: GPL6879 (Alternative CDF)',\n",
        "    'Alternative to: GPL7567 (Alternative CDF)',\n",
        "    'Alternative to: GPL8019 (Alternative CDF)',\n",
        "    'Alternative to: GPL8542 (Alternative CDF)',\n",
        "    'Alternative to: GPL8715 (Alternative CDF)',\n",
        "    'Alternative to: GPL8712 (Alternative CDF)',\n",
        "    'Alternative to: GPL9102 (Probe Level Version)',\n",
        "    'Alternative to: GPL9099 (Alternative CDF)',\n",
        "    'Alternative to: GPL9101 (Alternative CDF)',\n",
        "    'Alternative to: GPL9324 (Alternative CDF)',\n",
        "    'Alternative to: GPL9486 (Alternative CDF)',\n",
        "    'Alternative to: GPL9987 (Alternative CDF)',\n",
        "    'Alternative to: GPL10175 (Alternative CDF)',\n",
        "    'Alternative to: GPL10335 (Alternative CDF)',\n",
        "    'Alternative to: GPL10371 (Alternative CDF)',\n",
        "    'Alternative to: GPL10526 (Alternative CDF)',\n",
        "    'Alternative to: GPL10881 (Alternative CDF)',\n",
        "    'Alternative to: GPL10925 (Alternative CDF)',\n",
        "    'Alternative to: GPL11084 (Alternative CDF)',\n",
        "    'Alternative to: GPL11433 (Alternative CDF)',\n",
        "    'Alternative to: GPL11670 (Alternative CDF)',\n",
        "    'Alternative to: GPL13232 (Alternative CDF [HGU133Plus2_Hs_REFSEQ, Brainarray version 13.0.0])',\n",
        "    'Alternative to: GPL13303 (Alternative CDF.)',\n",
        "    'Alternative to: GPL13916 ([Brainarray ENSG Version 14.1])',\n",
        "    'Alternative to: GPL14837 (Alternative CDF)',\n",
        "    'Alternative to: GPL14877 ([Alternative CDF])',\n",
        "    'Alternative to: GPL15394 (Alternative CDF [HGU133Plus2_Hs_REFSEQ, Brainarray version 14.0])',\n",
        "    'Alternative to: GPL6732 (Alternative CDF [HGU133Plus2_Hs_REFSEQ, Brainarray version 7])',\n",
        "    'Alternative to: GPL15445 (Alternative CDF)',\n",
        "    'Alternative to: GPL16066 (Alternative CDF)',\n",
        "    'Alternative to: GPL16100 (Alternative CDF [GATExplorer_Ensembl v57])',\n",
        "    'Alternative to: GPL16268 (Alternative CDF [Brainarray ENSG Version 16])',\n",
        "    'Alternative to: GPL16273 (Alternative CDF [Brainarray ENSG Version 15])',\n",
        "    'Alternative to: GPL16311 (Alternative CDF [HGU133Plus2_Hs_ENTREZG Brainarray version 14.0.0])',\n",
        "    'Alternative to: GPL16356 (Alternative CDF [Brainarray HGU133Plus2_Hs_ENTREZG 15.0.0])',\n",
        "    'Alternative to: GPL16372 (Alternative CDF [Brainarray HGU133Plus2_Hs_UG v.13])',\n",
        "    'Alternative to: GPL17392 (Alternative CDF [HGU133Plus2_Hs_ENSG, Brainarray 17.1])',\n",
        "    'Alternative to: GPL17394 (Alternative CDF [HGU133Plus2_Hs_ENSG, Brainarray 13.0])',\n",
        "    'Alternative to: GPL17810 (Alternative CDF [HGU133Plus2_Hs_ENTREZG, Brainarray 16])',\n",
        "    'Alternative to: GPL17811 (Alternative CDF [HGU133Plus2_Hs_ENTREZG, Brainarray 17])',\n",
        "    'Alternative to: GPL17996 (Alternative CDF:HGU133Plus2_Hs_ENTREZG.cdf version 15.1.0)',\n",
        "    'Alternative to: GPL18121 (custom CDF)'],\n",
        "   'Platform_status': 'Public on Nov 07 2003',\n",
        "   'Platform_submission_date': 'Nov 07 2003',\n",
        "   'Platform_taxid': '9606',\n",
        "   'Platform_technology': 'in situ oligonucleotide',\n",
        "   'Platform_title': '[HG-U133_Plus_2] Affymetrix Human Genome U133 Plus 2.0 Array',\n",
        "   'Platform_web_link': ['http://www.affymetrix.com/support/technical/byproduct.affx?product=hg-u133-plus',\n",
        "    'http://www.affymetrix.com/analysis/index.affx'],\n",
        "   'Table': ['<Table import not implemented>'],\n",
        "   'Table_Columns': [('ID',\n",
        "     'Affymetrix Probe Set ID LINK_PRE:\"https://www.affymetrix.com/LinkServlet?array=U133PLUS&probeset=\"'),\n",
        "    ('GB_ACC',\n",
        "     'GenBank Accession Number LINK_PRE:\"http://www.ncbi.nlm.nih.gov/nuccore/?term=\"'),\n",
        "    ('SPOT_ID', 'identifies controls'),\n",
        "    ('Species Scientific Name',\n",
        "     'The genus and species of the organism represented by the probe set.'),\n",
        "    ('Annotation Date',\n",
        "     'The date that the annotations for this probe array were last updated. It will generally be earlier than the date when the annotations were posted on the Affymetrix web site.'),\n",
        "    ('Sequence Type', ''),\n",
        "    ('Sequence Source',\n",
        "     'The database from which the sequence used to design this probe set was taken.'),\n",
        "    ('Target Description', ''),\n",
        "    ('Representative Public ID',\n",
        "     'The accession number of a representative sequence. Note that for consensus-based probe sets, the representative sequence is only one of several sequences (sequence sub-clusters) used to build the consensus sequence and it is not directly used to derive the probe sequences. The representative sequence is chosen during array design as a sequence that is best associated with the transcribed region being interrogated by the probe set. Refer to the \"Sequence Source\" field to determine the database used.'),\n",
        "    ('Gene Title', 'Title of Gene represented by the probe set.'),\n",
        "    ('Gene Symbol', 'A gene symbol, when one is available (from UniGene).'),\n",
        "    ('ENTREZ_GENE_ID',\n",
        "     'Entrez Gene Database UID LINK_PRE:\"http://www.ncbi.nlm.nih.gov/gene/\" DELIMIT:\" /// \"'),\n",
        "    ('RefSeq Transcript ID',\n",
        "     'References to multiple sequences in RefSeq. The field contains the ID and Description for each entry, and there can be multiple entries per ProbeSet.'),\n",
        "    ('Gene Ontology Biological Process',\n",
        "     'Gene Ontology Consortium Biological Process derived from LocusLink.  Each annotation consists of three parts: \"Accession Number // Description // Evidence\". The description corresponds directly to the GO ID. The evidence can be \"direct\", or \"extended\".'),\n",
        "    ('Gene Ontology Cellular Component',\n",
        "     'Gene Ontology Consortium Cellular Component derived from LocusLink.  Each annotation consists of three parts: \"Accession Number // Description // Evidence\". The description corresponds directly to the GO ID. The evidence can be \"direct\", or \"extended\".'),\n",
        "    ('Gene Ontology Molecular Function',\n",
        "     'Gene Ontology Consortium Molecular Function derived from LocusLink.  Each annotation consists of three parts: \"Accession Number // Description // Evidence\". The description corresponds directly to the GO ID. The evidence can be \"direct\", or \"extended\".')]}},\n",
        " 'SAMPLE': {'GSM151739': {'NAME': 'GSM151739',\n",
        "   'Sample_channel_count': '1',\n",
        "   'Sample_characteristics_ch1': ['Male embryonic stem cell line H14.s3, passage 3, karyotype: 46,XY',\n",
        "    'Originally human embryonic stem cell line H14 (WiCell Research Institute), H14.s3 maintained at Centre for Stem Cell Biology, University of Sheffield'],\n",
        "   'Sample_contact_address': 'Western Bank',\n",
        "   'Sample_contact_city': 'Sheffield',\n",
        "   'Sample_contact_country': 'United Kingdom',\n",
        "   'Sample_contact_department': 'Department of Biomedical Science',\n",
        "   'Sample_contact_email': 'Duncan.Baker@sch.nhs.uk',\n",
        "   'Sample_contact_institute': 'University of Sheffield',\n",
        "   'Sample_contact_laboratory': 'Centre for Stem cell Biology',\n",
        "   'Sample_contact_name': 'Duncan,,Baker',\n",
        "   'Sample_contact_state': 'S.Yorks',\n",
        "   'Sample_contact_zip/postal_code': 'S10 2TN',\n",
        "   'Sample_data_processing': 'The data were analyzed with Microarray Suite version 5.0 (MAS 5.0) using Affymetrix default analysis settings and global scaling as normalization method. The trimmed mean target intensity of each array was arbitrarily set to 100.',\n",
        "   'Sample_data_row_count': '54675',\n",
        "   'Sample_description': 'Gene expression data from human embryonic stem cell line H14.s3 with normal male karyotype.',\n",
        "   'Sample_extract_protocol_ch1': \"Trizol extraction of total RNA was performed according to the manufacturer's instructions.\",\n",
        "   'Sample_geo_accession': 'GSM151739',\n",
        "   'Sample_growth_protocol_ch1': 'Cells had been cultured under standard conditions (37oC in media) prior to RNA extraction.',\n",
        "   'Sample_hyb_protocol': '15\\xc2\\xb5g of cRNA molecules were heat fragmented and applied to the Human U133 plus 2 GeneChips in a hybridisation solution according to the Affymetrix protocol. Hybridisation took place overnight in a rotating hybridisation platform at 45oC for 16 hours. Post hybridisation stringency washing was done using the Affymetrix fluidics station again following the protocol outlined in the Affymetrix instructions.',\n",
        "   'Sample_label_ch1': 'biotin',\n",
        "   'Sample_label_protocol_ch1': 'Biotinylated cRNA were prepared according to the standard Affymetrix protocol from 6 ug total RNA (Expression Analysis Technical Manual, 2001, Affymetrix).',\n",
        "   'Sample_last_update_date': 'Dec 20 2006',\n",
        "   'Sample_molecule_ch1': 'total RNA',\n",
        "   'Sample_organism_ch1': 'Homo sapiens',\n",
        "   'Sample_platform_id': 'GPL570',\n",
        "   'Sample_scan_protocol': 'The GeneChips were scanned in the Affymetrix GCS3000 scanner and the resultant image processed using the GCOS software package to prepare the .CEL and .CHP files',\n",
        "   'Sample_series_id': 'GSE6561',\n",
        "   'Sample_source_name_ch1': 'Human embryonic stem cell line H14 (WiCell Research Institute) with normal male karyotype.',\n",
        "   'Sample_status': 'Public on Feb 10 2007',\n",
        "   'Sample_submission_date': 'Dec 18 2006',\n",
        "   'Sample_supplementary_file': 'ftp://ftp.ncbi.nlm.nih.gov/pub/geo/DATA/supplementary/samples/GSM151nnn/GSM151739/GSM151739.CEL.gz',\n",
        "   'Sample_taxid_ch1': '9606',\n",
        "   'Sample_title': 'H14.s3 hsr negative rep 1',\n",
        "   'Sample_treatment_protocol_ch1': 'Cells had been cultured under standard conditions (37oC in media) prior to RNA extraction.',\n",
        "   'Sample_type': 'RNA',\n",
        "   'Table': ['<Table import not implemented>'],\n",
        "   'Table_Columns': [('ID_REF', ''),\n",
        "    ('VALUE', 'MAS 5.0'),\n",
        "    ('ABS_CALL',\n",
        "     'the call in an absolute analysis that indicates if the transcript was present (P), absent (A), marginal (M), or no call (NC)'),\n",
        "    ('DETECTION P-VALUE',\n",
        "     \"'detection p-value', p-value that indicates the significance level of the detection call\")]}},\n",
        " 'SERIES': {'GSE6561': {'NAME': 'GSE6561',\n",
        "   'Series_contact_address': 'Western Bank',\n",
        "   'Series_contact_city': 'Sheffield',\n",
        "   'Series_contact_country': 'United Kingdom',\n",
        "   'Series_contact_department': 'Department of Biomedical Science',\n",
        "   'Series_contact_email': 'Duncan.Baker@sch.nhs.uk',\n",
        "   'Series_contact_institute': 'University of Sheffield',\n",
        "   'Series_contact_laboratory': 'Centre for Stem cell Biology',\n",
        "   'Series_contact_name': 'Duncan,,Baker',\n",
        "   'Series_contact_state': 'S.Yorks',\n",
        "   'Series_contact_zip/postal_code': 'S10 2TN',\n",
        "   'Series_contributor': ['Peter,,Andrews',\n",
        "    'Duncan,,Baker',\n",
        "    'Neil,,Harrison',\n",
        "    'Paul,,Heath',\n",
        "    'Edna,,Maltby',\n",
        "    'Kath,,Smith',\n",
        "    'Hazel,,Holden',\n",
        "    'Pamela,,Shaw',\n",
        "    'Harry,,Moore'],\n",
        "   'Series_geo_accession': 'GSE6561',\n",
        "   'Series_last_update_date': 'Feb 21 2014',\n",
        "   'Series_overall_design': 'H14 HSR positive embryonic stem cells and H14 HSR negative cells were hybridised to Affymetrix U133 Plus 2.0 expression arrays. Replicates were also run using H14 positive and H14 negative cells from different passages.',\n",
        "   'Series_platform_id': 'GPL570',\n",
        "   'Series_platform_taxid': '9606',\n",
        "   'Series_pubmed_id': '17287758',\n",
        "   'Series_relation': 'BioProject: http://www.ncbi.nlm.nih.gov/bioproject/PRJNA98779',\n",
        "   'Series_sample_id': ['GSM151738', 'GSM151739', 'GSM151740', 'GSM151741'],\n",
        "   'Series_sample_taxid': '9606',\n",
        "   'Series_status': 'Public on Feb 10 2007',\n",
        "   'Series_submission_date': 'Dec 18 2006',\n",
        "   'Series_summary': ['Homogenous staining regions (hsr) are cytogenetic representations of a gene amplification. They are found exclusively in tumour cells. We found a hsr in the human embryonic stem cell (hESC) line H14, this is the first report of a hsr in hESCs. FISH and CGH studies showed that the hsr was derived from chromosome 17p11.2. The gene expression analysis studies were performed to identify the genes upregulated due to the hsr by comparison the the hsr-contianing H14 cells with a karyotypically normal parent H14 cell line.',\n",
        "    'Keywords: karyotypically abnormal hESC vs karyotypically normal hESC.'],\n",
        "   'Series_supplementary_file': 'ftp://ftp.ncbi.nlm.nih.gov/pub/geo/DATA/supplementary/series/GSE6561/GSE6561_RAW.tar',\n",
        "   'Series_title': 'Expression data from hsr containing human embryonic stem cell line, H14, and parent H14  human embryonic stem cell line.',\n",
        "   'Series_type': 'Expression profiling by array'}}}"
       ]
      }
     ],
     "prompt_number": 23
    }
   ],
   "metadata": {}
  }
 ]
}